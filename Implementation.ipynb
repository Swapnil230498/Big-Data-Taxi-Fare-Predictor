{
 "cells": [
  {
   "cell_type": "markdown",
   "id": "a75cb929",
   "metadata": {},
   "source": [
    "# Importing Libraries:"
   ]
  },
  {
   "cell_type": "code",
   "execution_count": 1,
   "id": "2e8e5300",
   "metadata": {},
   "outputs": [],
   "source": [
    "import vaex\n",
    "import pandas as pd\n",
    "import numpy as np\n",
    "import matplotlib.pyplot as plt\n",
    "import seaborn as sns"
   ]
  },
  {
   "cell_type": "markdown",
   "id": "f916754e",
   "metadata": {},
   "source": [
    "# Loading Dataset:"
   ]
  },
  {
   "cell_type": "code",
   "execution_count": 2,
   "id": "7c442072",
   "metadata": {},
   "outputs": [],
   "source": [
    "vaex_df = vaex.open('all_merged_hdf5.hdf5')"
   ]
  },
  {
   "cell_type": "code",
   "execution_count": 3,
   "id": "bf8598e5",
   "metadata": {},
   "outputs": [
    {
     "data": {
      "text/html": [
       "<table>\n",
       "<thead>\n",
       "<tr><th>#                            </th><th style=\"text-align: right;\">  vendorid</th><th>tpep_pickup_datetime      </th><th>tpep_dropoff_datetime     </th><th style=\"text-align: right;\">  passenger_count</th><th style=\"text-align: right;\">  trip_distance</th><th style=\"text-align: right;\">  ratecodeid</th><th>store_and_fwd_flag  </th><th style=\"text-align: right;\">  pulocationid</th><th style=\"text-align: right;\">  dolocationid</th><th style=\"text-align: right;\">  payment_type</th><th style=\"text-align: right;\">  fare_amount</th><th style=\"text-align: right;\">  extra</th><th style=\"text-align: right;\">  mta_tax</th><th style=\"text-align: right;\">  tip_amount</th><th style=\"text-align: right;\">  tolls_amount</th><th style=\"text-align: right;\">  improvement_surcharge</th><th style=\"text-align: right;\">  total_amount</th><th style=\"text-align: right;\">  congestion_surcharge</th></tr>\n",
       "</thead>\n",
       "<tbody>\n",
       "<tr><td><i style='opacity: 0.6'>0</i></td><td style=\"text-align: right;\">         1</td><td>2019-05-01 00:14:50.000000</td><td>2019-05-01 00:16:48.000000</td><td style=\"text-align: right;\">                1</td><td style=\"text-align: right;\">            0  </td><td style=\"text-align: right;\">           1</td><td>N                   </td><td style=\"text-align: right;\">           145</td><td style=\"text-align: right;\">           145</td><td style=\"text-align: right;\">             2</td><td style=\"text-align: right;\">          3  </td><td style=\"text-align: right;\">    0.5</td><td style=\"text-align: right;\">      0.5</td><td style=\"text-align: right;\">        0   </td><td style=\"text-align: right;\">             0</td><td style=\"text-align: right;\">                    0.3</td><td style=\"text-align: right;\">          4.3 </td><td style=\"text-align: right;\">                   0  </td></tr>\n",
       "<tr><td><i style='opacity: 0.6'>1</i></td><td style=\"text-align: right;\">         1</td><td>2019-05-01 00:35:54.000000</td><td>2019-05-01 00:37:27.000000</td><td style=\"text-align: right;\">                1</td><td style=\"text-align: right;\">            1.5</td><td style=\"text-align: right;\">           1</td><td>N                   </td><td style=\"text-align: right;\">           145</td><td style=\"text-align: right;\">           145</td><td style=\"text-align: right;\">             2</td><td style=\"text-align: right;\">          3  </td><td style=\"text-align: right;\">    0.5</td><td style=\"text-align: right;\">      0.5</td><td style=\"text-align: right;\">        0   </td><td style=\"text-align: right;\">             0</td><td style=\"text-align: right;\">                    0.3</td><td style=\"text-align: right;\">          4.3 </td><td style=\"text-align: right;\">                   0  </td></tr>\n",
       "<tr><td><i style='opacity: 0.6'>2</i></td><td style=\"text-align: right;\">         1</td><td>2019-05-01 00:37:45.000000</td><td>2019-05-01 00:37:49.000000</td><td style=\"text-align: right;\">                1</td><td style=\"text-align: right;\">            1.5</td><td style=\"text-align: right;\">           1</td><td>N                   </td><td style=\"text-align: right;\">           145</td><td style=\"text-align: right;\">           145</td><td style=\"text-align: right;\">             2</td><td style=\"text-align: right;\">          2.5</td><td style=\"text-align: right;\">    0.5</td><td style=\"text-align: right;\">      0.5</td><td style=\"text-align: right;\">        0   </td><td style=\"text-align: right;\">             0</td><td style=\"text-align: right;\">                    0.3</td><td style=\"text-align: right;\">          3.8 </td><td style=\"text-align: right;\">                   0  </td></tr>\n",
       "<tr><td><i style='opacity: 0.6'>3</i></td><td style=\"text-align: right;\">         1</td><td>2019-05-01 00:44:57.000000</td><td>2019-05-01 00:50:11.000000</td><td style=\"text-align: right;\">                1</td><td style=\"text-align: right;\">            0.7</td><td style=\"text-align: right;\">           1</td><td>N                   </td><td style=\"text-align: right;\">           161</td><td style=\"text-align: right;\">           161</td><td style=\"text-align: right;\">             2</td><td style=\"text-align: right;\">          5  </td><td style=\"text-align: right;\">    3  </td><td style=\"text-align: right;\">      0.5</td><td style=\"text-align: right;\">        0   </td><td style=\"text-align: right;\">             0</td><td style=\"text-align: right;\">                    0.3</td><td style=\"text-align: right;\">          8.8 </td><td style=\"text-align: right;\">                   2.5</td></tr>\n",
       "<tr><td><i style='opacity: 0.6'>4</i></td><td style=\"text-align: right;\">         1</td><td>2019-05-01 00:59:48.000000</td><td>2019-05-01 01:10:22.000000</td><td style=\"text-align: right;\">                1</td><td style=\"text-align: right;\">            2  </td><td style=\"text-align: right;\">           1</td><td>N                   </td><td style=\"text-align: right;\">           163</td><td style=\"text-align: right;\">           141</td><td style=\"text-align: right;\">             1</td><td style=\"text-align: right;\">          9.5</td><td style=\"text-align: right;\">    3  </td><td style=\"text-align: right;\">      0.5</td><td style=\"text-align: right;\">        2   </td><td style=\"text-align: right;\">             0</td><td style=\"text-align: right;\">                    0.3</td><td style=\"text-align: right;\">         15.3 </td><td style=\"text-align: right;\">                   2.5</td></tr>\n",
       "<tr><td><i style='opacity: 0.6'>5</i></td><td style=\"text-align: right;\">         2</td><td>2019-05-01 00:48:04.000000</td><td>2019-05-01 00:49:00.000000</td><td style=\"text-align: right;\">                1</td><td style=\"text-align: right;\">            0  </td><td style=\"text-align: right;\">           1</td><td>N                   </td><td style=\"text-align: right;\">           193</td><td style=\"text-align: right;\">           193</td><td style=\"text-align: right;\">             2</td><td style=\"text-align: right;\">          2.5</td><td style=\"text-align: right;\">    0.5</td><td style=\"text-align: right;\">      0.5</td><td style=\"text-align: right;\">        0   </td><td style=\"text-align: right;\">             0</td><td style=\"text-align: right;\">                    0.3</td><td style=\"text-align: right;\">          3.8 </td><td style=\"text-align: right;\">                   0  </td></tr>\n",
       "<tr><td><i style='opacity: 0.6'>6</i></td><td style=\"text-align: right;\">         2</td><td>2019-05-01 00:05:26.000000</td><td>2019-05-01 00:05:34.000000</td><td style=\"text-align: right;\">                1</td><td style=\"text-align: right;\">            0  </td><td style=\"text-align: right;\">           1</td><td>N                   </td><td style=\"text-align: right;\">           193</td><td style=\"text-align: right;\">           193</td><td style=\"text-align: right;\">             2</td><td style=\"text-align: right;\">          2.5</td><td style=\"text-align: right;\">    0.5</td><td style=\"text-align: right;\">      0.5</td><td style=\"text-align: right;\">        0   </td><td style=\"text-align: right;\">             0</td><td style=\"text-align: right;\">                    0.3</td><td style=\"text-align: right;\">          3.8 </td><td style=\"text-align: right;\">                   0  </td></tr>\n",
       "<tr><td><i style='opacity: 0.6'>7</i></td><td style=\"text-align: right;\">         1</td><td>2019-05-01 00:23:20.000000</td><td>2019-05-01 00:32:57.000000</td><td style=\"text-align: right;\">                1</td><td style=\"text-align: right;\">            2.5</td><td style=\"text-align: right;\">           1</td><td>N                   </td><td style=\"text-align: right;\">           260</td><td style=\"text-align: right;\">            56</td><td style=\"text-align: right;\">             2</td><td style=\"text-align: right;\">         10  </td><td style=\"text-align: right;\">    0.5</td><td style=\"text-align: right;\">      0.5</td><td style=\"text-align: right;\">        0   </td><td style=\"text-align: right;\">             0</td><td style=\"text-align: right;\">                    0.3</td><td style=\"text-align: right;\">         11.3 </td><td style=\"text-align: right;\">                   0  </td></tr>\n",
       "<tr><td><i style='opacity: 0.6'>8</i></td><td style=\"text-align: right;\">         1</td><td>2019-05-01 00:35:54.000000</td><td>2019-05-01 00:47:49.000000</td><td style=\"text-align: right;\">                1</td><td style=\"text-align: right;\">            2.8</td><td style=\"text-align: right;\">           1</td><td>N                   </td><td style=\"text-align: right;\">            56</td><td style=\"text-align: right;\">           226</td><td style=\"text-align: right;\">             2</td><td style=\"text-align: right;\">         11.5</td><td style=\"text-align: right;\">    0.5</td><td style=\"text-align: right;\">      0.5</td><td style=\"text-align: right;\">        0   </td><td style=\"text-align: right;\">             0</td><td style=\"text-align: right;\">                    0.3</td><td style=\"text-align: right;\">         12.8 </td><td style=\"text-align: right;\">                   0  </td></tr>\n",
       "<tr><td><i style='opacity: 0.6'>9</i></td><td style=\"text-align: right;\">         1</td><td>2019-05-01 00:20:12.000000</td><td>2019-05-01 00:26:52.000000</td><td style=\"text-align: right;\">                1</td><td style=\"text-align: right;\">            2  </td><td style=\"text-align: right;\">           1</td><td>N                   </td><td style=\"text-align: right;\">            79</td><td style=\"text-align: right;\">           164</td><td style=\"text-align: right;\">             1</td><td style=\"text-align: right;\">          8  </td><td style=\"text-align: right;\">    3  </td><td style=\"text-align: right;\">      0.5</td><td style=\"text-align: right;\">        2.35</td><td style=\"text-align: right;\">             0</td><td style=\"text-align: right;\">                    0.3</td><td style=\"text-align: right;\">         14.15</td><td style=\"text-align: right;\">                   2.5</td></tr>\n",
       "</tbody>\n",
       "</table>"
      ],
      "text/plain": [
       "  #    vendorid  tpep_pickup_datetime        tpep_dropoff_datetime         passenger_count    trip_distance    ratecodeid  store_and_fwd_flag      pulocationid    dolocationid    payment_type    fare_amount    extra    mta_tax    tip_amount    tolls_amount    improvement_surcharge    total_amount    congestion_surcharge\n",
       "  0           1  2019-05-01 00:14:50.000000  2019-05-01 00:16:48.000000                  1              0               1  N                                145             145               2            3        0.5        0.5          0                  0                      0.3            4.3                      0\n",
       "  1           1  2019-05-01 00:35:54.000000  2019-05-01 00:37:27.000000                  1              1.5             1  N                                145             145               2            3        0.5        0.5          0                  0                      0.3            4.3                      0\n",
       "  2           1  2019-05-01 00:37:45.000000  2019-05-01 00:37:49.000000                  1              1.5             1  N                                145             145               2            2.5      0.5        0.5          0                  0                      0.3            3.8                      0\n",
       "  3           1  2019-05-01 00:44:57.000000  2019-05-01 00:50:11.000000                  1              0.7             1  N                                161             161               2            5        3          0.5          0                  0                      0.3            8.8                      2.5\n",
       "  4           1  2019-05-01 00:59:48.000000  2019-05-01 01:10:22.000000                  1              2               1  N                                163             141               1            9.5      3          0.5          2                  0                      0.3           15.3                      2.5\n",
       "  5           2  2019-05-01 00:48:04.000000  2019-05-01 00:49:00.000000                  1              0               1  N                                193             193               2            2.5      0.5        0.5          0                  0                      0.3            3.8                      0\n",
       "  6           2  2019-05-01 00:05:26.000000  2019-05-01 00:05:34.000000                  1              0               1  N                                193             193               2            2.5      0.5        0.5          0                  0                      0.3            3.8                      0\n",
       "  7           1  2019-05-01 00:23:20.000000  2019-05-01 00:32:57.000000                  1              2.5             1  N                                260              56               2           10        0.5        0.5          0                  0                      0.3           11.3                      0\n",
       "  8           1  2019-05-01 00:35:54.000000  2019-05-01 00:47:49.000000                  1              2.8             1  N                                 56             226               2           11.5      0.5        0.5          0                  0                      0.3           12.8                      0\n",
       "  9           1  2019-05-01 00:20:12.000000  2019-05-01 00:26:52.000000                  1              2               1  N                                 79             164               1            8        3          0.5          2.35               0                      0.3           14.15                     2.5"
      ]
     },
     "execution_count": 3,
     "metadata": {},
     "output_type": "execute_result"
    }
   ],
   "source": [
    "vaex_df.head()"
   ]
  },
  {
   "cell_type": "code",
   "execution_count": 4,
   "id": "f5d410ff",
   "metadata": {},
   "outputs": [
    {
     "data": {
      "text/plain": [
       "(84399019, 18)"
      ]
     },
     "execution_count": 4,
     "metadata": {},
     "output_type": "execute_result"
    }
   ],
   "source": [
    "vaex_df.shape"
   ]
  },
  {
   "cell_type": "markdown",
   "id": "1a3aad47",
   "metadata": {},
   "source": [
    "# Analyzing Dataset"
   ]
  },
  {
   "cell_type": "code",
   "execution_count": 5,
   "id": "205f76bb",
   "metadata": {},
   "outputs": [
    {
     "data": {
      "text/html": [
       "<div>\n",
       "<style scoped>\n",
       "    .dataframe tbody tr th:only-of-type {\n",
       "        vertical-align: middle;\n",
       "    }\n",
       "\n",
       "    .dataframe tbody tr th {\n",
       "        vertical-align: top;\n",
       "    }\n",
       "\n",
       "    .dataframe thead th {\n",
       "        text-align: right;\n",
       "    }\n",
       "</style>\n",
       "<table border=\"1\" class=\"dataframe\">\n",
       "  <thead>\n",
       "    <tr style=\"text-align: right;\">\n",
       "      <th></th>\n",
       "      <th>vendorid</th>\n",
       "      <th>tpep_pickup_datetime</th>\n",
       "      <th>tpep_dropoff_datetime</th>\n",
       "      <th>passenger_count</th>\n",
       "      <th>trip_distance</th>\n",
       "      <th>ratecodeid</th>\n",
       "      <th>store_and_fwd_flag</th>\n",
       "      <th>pulocationid</th>\n",
       "      <th>dolocationid</th>\n",
       "      <th>payment_type</th>\n",
       "      <th>fare_amount</th>\n",
       "      <th>extra</th>\n",
       "      <th>mta_tax</th>\n",
       "      <th>tip_amount</th>\n",
       "      <th>tolls_amount</th>\n",
       "      <th>improvement_surcharge</th>\n",
       "      <th>total_amount</th>\n",
       "      <th>congestion_surcharge</th>\n",
       "    </tr>\n",
       "  </thead>\n",
       "  <tbody>\n",
       "    <tr>\n",
       "      <th>data_type</th>\n",
       "      <td>float64</td>\n",
       "      <td>large_string</td>\n",
       "      <td>large_string</td>\n",
       "      <td>float64</td>\n",
       "      <td>float64</td>\n",
       "      <td>float64</td>\n",
       "      <td>string</td>\n",
       "      <td>float64</td>\n",
       "      <td>float64</td>\n",
       "      <td>float64</td>\n",
       "      <td>float64</td>\n",
       "      <td>float64</td>\n",
       "      <td>float64</td>\n",
       "      <td>float64</td>\n",
       "      <td>float64</td>\n",
       "      <td>float64</td>\n",
       "      <td>float64</td>\n",
       "      <td>float64</td>\n",
       "    </tr>\n",
       "    <tr>\n",
       "      <th>count</th>\n",
       "      <td>84152418</td>\n",
       "      <td>84399019</td>\n",
       "      <td>84399019</td>\n",
       "      <td>84152418</td>\n",
       "      <td>84399019</td>\n",
       "      <td>84152418</td>\n",
       "      <td>84152418</td>\n",
       "      <td>84399019</td>\n",
       "      <td>84399019</td>\n",
       "      <td>84152418</td>\n",
       "      <td>84399019</td>\n",
       "      <td>84399019</td>\n",
       "      <td>84399019</td>\n",
       "      <td>84399019</td>\n",
       "      <td>84399019</td>\n",
       "      <td>84399019</td>\n",
       "      <td>84399019</td>\n",
       "      <td>79543038</td>\n",
       "    </tr>\n",
       "    <tr>\n",
       "      <th>NA</th>\n",
       "      <td>246601</td>\n",
       "      <td>0</td>\n",
       "      <td>0</td>\n",
       "      <td>246601</td>\n",
       "      <td>0</td>\n",
       "      <td>246601</td>\n",
       "      <td>246601</td>\n",
       "      <td>0</td>\n",
       "      <td>0</td>\n",
       "      <td>246601</td>\n",
       "      <td>0</td>\n",
       "      <td>0</td>\n",
       "      <td>0</td>\n",
       "      <td>0</td>\n",
       "      <td>0</td>\n",
       "      <td>0</td>\n",
       "      <td>0</td>\n",
       "      <td>4855981</td>\n",
       "    </tr>\n",
       "    <tr>\n",
       "      <th>mean</th>\n",
       "      <td>1.6454766516631762</td>\n",
       "      <td>--</td>\n",
       "      <td>--</td>\n",
       "      <td>1.5626939442191667</td>\n",
       "      <td>3.0009277213279097</td>\n",
       "      <td>1.0612957075101515</td>\n",
       "      <td>--</td>\n",
       "      <td>163.15761897659024</td>\n",
       "      <td>161.35274483462894</td>\n",
       "      <td>1.289363224239142</td>\n",
       "      <td>13.343991200776065</td>\n",
       "      <td>1.0865968630512077</td>\n",
       "      <td>0.4946098435101477</td>\n",
       "      <td>2.195064126992676</td>\n",
       "      <td>0.3828310446379221</td>\n",
       "      <td>0.2986038973080952</td>\n",
       "      <td>19.12436323081165</td>\n",
       "      <td>2.1881800277731407</td>\n",
       "    </tr>\n",
       "    <tr>\n",
       "      <th>std</th>\n",
       "      <td>0.497875</td>\n",
       "      <td>--</td>\n",
       "      <td>--</td>\n",
       "      <td>1.207917</td>\n",
       "      <td>8.091114</td>\n",
       "      <td>0.759543</td>\n",
       "      <td>--</td>\n",
       "      <td>66.016038</td>\n",
       "      <td>70.250878</td>\n",
       "      <td>0.479133</td>\n",
       "      <td>174.374901</td>\n",
       "      <td>1.248594</td>\n",
       "      <td>0.067281</td>\n",
       "      <td>15.657058</td>\n",
       "      <td>1.817217</td>\n",
       "      <td>0.0279</td>\n",
       "      <td>184.087361</td>\n",
       "      <td>0.837313</td>\n",
       "    </tr>\n",
       "    <tr>\n",
       "      <th>min</th>\n",
       "      <td>1.0</td>\n",
       "      <td>--</td>\n",
       "      <td>--</td>\n",
       "      <td>0.0</td>\n",
       "      <td>-37264.53</td>\n",
       "      <td>1.0</td>\n",
       "      <td>--</td>\n",
       "      <td>1.0</td>\n",
       "      <td>1.0</td>\n",
       "      <td>1.0</td>\n",
       "      <td>-1856.0</td>\n",
       "      <td>-60.0</td>\n",
       "      <td>-0.5</td>\n",
       "      <td>-221.0</td>\n",
       "      <td>-70.0</td>\n",
       "      <td>-0.3</td>\n",
       "      <td>-1871.8</td>\n",
       "      <td>-2.5</td>\n",
       "    </tr>\n",
       "    <tr>\n",
       "      <th>max</th>\n",
       "      <td>4.0</td>\n",
       "      <td>--</td>\n",
       "      <td>--</td>\n",
       "      <td>9.0</td>\n",
       "      <td>45977.22</td>\n",
       "      <td>99.0</td>\n",
       "      <td>--</td>\n",
       "      <td>265.0</td>\n",
       "      <td>265.0</td>\n",
       "      <td>5.0</td>\n",
       "      <td>943274.8</td>\n",
       "      <td>535.38</td>\n",
       "      <td>212.42</td>\n",
       "      <td>141492.02</td>\n",
       "      <td>3288.0</td>\n",
       "      <td>1.0</td>\n",
       "      <td>1084772.17</td>\n",
       "      <td>4.5</td>\n",
       "    </tr>\n",
       "  </tbody>\n",
       "</table>\n",
       "</div>"
      ],
      "text/plain": [
       "                     vendorid tpep_pickup_datetime tpep_dropoff_datetime  \\\n",
       "data_type             float64         large_string          large_string   \n",
       "count                84152418             84399019              84399019   \n",
       "NA                     246601                    0                     0   \n",
       "mean       1.6454766516631762                   --                    --   \n",
       "std                  0.497875                   --                    --   \n",
       "min                       1.0                   --                    --   \n",
       "max                       4.0                   --                    --   \n",
       "\n",
       "              passenger_count       trip_distance          ratecodeid  \\\n",
       "data_type             float64             float64             float64   \n",
       "count                84152418            84399019            84152418   \n",
       "NA                     246601                   0              246601   \n",
       "mean       1.5626939442191667  3.0009277213279097  1.0612957075101515   \n",
       "std                  1.207917            8.091114            0.759543   \n",
       "min                       0.0           -37264.53                 1.0   \n",
       "max                       9.0            45977.22                99.0   \n",
       "\n",
       "          store_and_fwd_flag        pulocationid        dolocationid  \\\n",
       "data_type             string             float64             float64   \n",
       "count               84152418            84399019            84399019   \n",
       "NA                    246601                   0                   0   \n",
       "mean                      --  163.15761897659024  161.35274483462894   \n",
       "std                       --           66.016038           70.250878   \n",
       "min                       --                 1.0                 1.0   \n",
       "max                       --               265.0               265.0   \n",
       "\n",
       "                payment_type         fare_amount               extra  \\\n",
       "data_type            float64             float64             float64   \n",
       "count               84152418            84399019            84399019   \n",
       "NA                    246601                   0                   0   \n",
       "mean       1.289363224239142  13.343991200776065  1.0865968630512077   \n",
       "std                 0.479133          174.374901            1.248594   \n",
       "min                      1.0             -1856.0               -60.0   \n",
       "max                      5.0            943274.8              535.38   \n",
       "\n",
       "                      mta_tax         tip_amount        tolls_amount  \\\n",
       "data_type             float64            float64             float64   \n",
       "count                84399019           84399019            84399019   \n",
       "NA                          0                  0                   0   \n",
       "mean       0.4946098435101477  2.195064126992676  0.3828310446379221   \n",
       "std                  0.067281          15.657058            1.817217   \n",
       "min                      -0.5             -221.0               -70.0   \n",
       "max                    212.42          141492.02              3288.0   \n",
       "\n",
       "          improvement_surcharge       total_amount congestion_surcharge  \n",
       "data_type               float64            float64              float64  \n",
       "count                  84399019           84399019             79543038  \n",
       "NA                            0                  0              4855981  \n",
       "mean         0.2986038973080952  19.12436323081165   2.1881800277731407  \n",
       "std                      0.0279         184.087361             0.837313  \n",
       "min                        -0.3            -1871.8                 -2.5  \n",
       "max                         1.0         1084772.17                  4.5  "
      ]
     },
     "execution_count": 5,
     "metadata": {},
     "output_type": "execute_result"
    }
   ],
   "source": [
    "vaex_df.describe()"
   ]
  },
  {
   "cell_type": "markdown",
   "id": "3136efca",
   "metadata": {},
   "source": [
    "### The main here is to train a model for evaluating fare-charge for a trip.\n",
    "#### Hence Removing unnecessary columns from the data:"
   ]
  },
  {
   "cell_type": "code",
   "execution_count": 5,
   "id": "5c820557",
   "metadata": {
    "scrolled": true
   },
   "outputs": [
    {
     "data": {
      "text/html": [
       "<table>\n",
       "<thead>\n",
       "<tr><th>#                                     </th><th>vendorid  </th><th>passenger_count  </th><th>trip_distance  </th><th>ratecodeid  </th><th>pulocationid  </th><th>dolocationid  </th><th>fare_amount  </th></tr>\n",
       "</thead>\n",
       "<tbody>\n",
       "<tr><td><i style='opacity: 0.6'>0</i>         </td><td>1.0       </td><td>1.0              </td><td>0.0            </td><td>1.0         </td><td>145.0         </td><td>145.0         </td><td>3.0          </td></tr>\n",
       "<tr><td><i style='opacity: 0.6'>1</i>         </td><td>1.0       </td><td>1.0              </td><td>1.5            </td><td>1.0         </td><td>145.0         </td><td>145.0         </td><td>3.0          </td></tr>\n",
       "<tr><td><i style='opacity: 0.6'>2</i>         </td><td>1.0       </td><td>1.0              </td><td>1.5            </td><td>1.0         </td><td>145.0         </td><td>145.0         </td><td>2.5          </td></tr>\n",
       "<tr><td><i style='opacity: 0.6'>3</i>         </td><td>1.0       </td><td>1.0              </td><td>0.7            </td><td>1.0         </td><td>161.0         </td><td>161.0         </td><td>5.0          </td></tr>\n",
       "<tr><td><i style='opacity: 0.6'>4</i>         </td><td>1.0       </td><td>1.0              </td><td>2.0            </td><td>1.0         </td><td>163.0         </td><td>141.0         </td><td>9.5          </td></tr>\n",
       "<tr><td>...                                   </td><td>...       </td><td>...              </td><td>...            </td><td>...         </td><td>...           </td><td>...           </td><td>...          </td></tr>\n",
       "<tr><td><i style='opacity: 0.6'>84,399,014</i></td><td>nan       </td><td>nan              </td><td>3.11           </td><td>nan         </td><td>188.0         </td><td>225.0         </td><td>26.81        </td></tr>\n",
       "<tr><td><i style='opacity: 0.6'>84,399,015</i></td><td>nan       </td><td>nan              </td><td>14.34          </td><td>nan         </td><td>14.0          </td><td>141.0         </td><td>40.91        </td></tr>\n",
       "<tr><td><i style='opacity: 0.6'>84,399,016</i></td><td>nan       </td><td>nan              </td><td>13.16          </td><td>nan         </td><td>86.0          </td><td>76.0          </td><td>54.25        </td></tr>\n",
       "<tr><td><i style='opacity: 0.6'>84,399,017</i></td><td>nan       </td><td>nan              </td><td>12.66          </td><td>nan         </td><td>60.0          </td><td>134.0         </td><td>37.2         </td></tr>\n",
       "<tr><td><i style='opacity: 0.6'>84,399,018</i></td><td>nan       </td><td>nan              </td><td>6.77           </td><td>nan         </td><td>75.0          </td><td>78.0          </td><td>29.45        </td></tr>\n",
       "</tbody>\n",
       "</table>"
      ],
      "text/plain": [
       "#           vendorid    passenger_count    trip_distance    ratecodeid    pulocationid    dolocationid    fare_amount\n",
       "0           1.0         1.0                0.0              1.0           145.0           145.0           3.0\n",
       "1           1.0         1.0                1.5              1.0           145.0           145.0           3.0\n",
       "2           1.0         1.0                1.5              1.0           145.0           145.0           2.5\n",
       "3           1.0         1.0                0.7              1.0           161.0           161.0           5.0\n",
       "4           1.0         1.0                2.0              1.0           163.0           141.0           9.5\n",
       "...         ...         ...                ...              ...           ...             ...             ...\n",
       "84,399,014  nan         nan                3.11             nan           188.0           225.0           26.81\n",
       "84,399,015  nan         nan                14.34            nan           14.0            141.0           40.91\n",
       "84,399,016  nan         nan                13.16            nan           86.0            76.0            54.25\n",
       "84,399,017  nan         nan                12.66            nan           60.0            134.0           37.2\n",
       "84,399,018  nan         nan                6.77             nan           75.0            78.0            29.45"
      ]
     },
     "execution_count": 5,
     "metadata": {},
     "output_type": "execute_result"
    }
   ],
   "source": [
    "vaex_df.drop('tpep_pickup_datetime',inplace = True)\n",
    "vaex_df.drop('tpep_dropoff_datetime',inplace = True)\n",
    "vaex_df.drop('store_and_fwd_flag',inplace = True)\n",
    "vaex_df.drop('payment_type',inplace = True)\n",
    "vaex_df.drop('extra',inplace = True)\n",
    "vaex_df.drop('mta_tax',inplace = True)\n",
    "vaex_df.drop('tip_amount',inplace = True)\n",
    "vaex_df.drop('tolls_amount',inplace = True)\n",
    "vaex_df.drop('improvement_surcharge',inplace = True)\n",
    "vaex_df.drop('congestion_surcharge',inplace = True)\n",
    "vaex_df.drop('total_amount',inplace = True)"
   ]
  },
  {
   "cell_type": "code",
   "execution_count": 6,
   "id": "a7eb296c",
   "metadata": {},
   "outputs": [
    {
     "data": {
      "text/plain": [
       "(84399019, 7)"
      ]
     },
     "execution_count": 6,
     "metadata": {},
     "output_type": "execute_result"
    }
   ],
   "source": [
    "vaex_df.shape"
   ]
  },
  {
   "cell_type": "markdown",
   "id": "36c2b632",
   "metadata": {},
   "source": [
    "### Handling NaN :\n",
    "#### Counting percentage of NaN values for each column:"
   ]
  },
  {
   "cell_type": "code",
   "execution_count": 8,
   "id": "a5754786",
   "metadata": {},
   "outputs": [
    {
     "data": {
      "text/plain": [
       "trip_distance      0.000000\n",
       "pulocationid       0.000000\n",
       "dolocationid       0.000000\n",
       "fare_amount        0.000000\n",
       "vendorid           0.292185\n",
       "passenger_count    0.292185\n",
       "ratecodeid         0.292185\n",
       "dtype: float64"
      ]
     },
     "execution_count": 8,
     "metadata": {},
     "output_type": "execute_result"
    }
   ],
   "source": [
    "col_NaN = []\n",
    "\n",
    "for col in vaex_df.column_names:\n",
    "    nan_value = vaex_df[col].isna().sum().item()\n",
    "    col_NaN.append(nan_value / len(vaex_df) * 100)\n",
    "\n",
    "s = pd.Series(data=col_NaN, index=vaex_df.column_names).sort_values(ascending=True)\n",
    "s"
   ]
  },
  {
   "cell_type": "markdown",
   "id": "347aa262",
   "metadata": {},
   "source": [
    "#### Handling NaN for vendorID, passenger_count and ratecodeID:"
   ]
  },
  {
   "cell_type": "code",
   "execution_count": 7,
   "id": "62a65046",
   "metadata": {},
   "outputs": [
    {
     "name": "stdout",
     "output_type": "stream",
     "text": [
      "The mode(s) of the array are: [2.]\n"
     ]
    }
   ],
   "source": [
    "#vendorid:\n",
    "\n",
    "vendor_id_array = vaex_df.evaluate(vaex_df['vendorid'])\n",
    "\n",
    "# Create a boolean mask to filter out NaN values\n",
    "mask = ~np.isnan(vendor_id_array)\n",
    "\n",
    "# Filter the array to remove NaN values\n",
    "vendor_id_array_without_nan = vendor_id_array[mask]\n",
    "\n",
    "# Calculate the mode using numpy.unique()\n",
    "unique_elements, counts = np.unique(vendor_id_array_without_nan, return_counts=True)\n",
    "\n",
    "# Find the mode(s) - the value(s) with the highest count\n",
    "mode_values = unique_elements[counts == counts.max()]\n",
    "\n",
    "print(f\"The mode(s) of the array are: {mode_values}\")\n",
    "\n",
    "vaex_df['vendorid'] = vaex_df['vendorid'].fillna(value = int(mode_values)) #filling mode value\n"
   ]
  },
  {
   "cell_type": "code",
   "execution_count": 8,
   "id": "eaeceab4",
   "metadata": {},
   "outputs": [
    {
     "name": "stdout",
     "output_type": "stream",
     "text": [
      "The mode(s) of the array are: [1.]\n"
     ]
    }
   ],
   "source": [
    "#pasenger count:\n",
    "\n",
    "pass_id_array = vaex_df.evaluate(vaex_df['passenger_count'])\n",
    "\n",
    "# Create a boolean mask to filter out NaN values\n",
    "mask = ~np.isnan(pass_id_array)\n",
    "\n",
    "# Filter the array to remove NaN values\n",
    "pass_id_array_without_nan = pass_id_array[mask]\n",
    "\n",
    "# Calculate the mode using numpy.unique()\n",
    "unique_elements, counts = np.unique(pass_id_array_without_nan, return_counts=True)\n",
    "\n",
    "# Find the mode(s) - the value(s) with the highest count\n",
    "mode_values = unique_elements[counts == counts.max()]\n",
    "\n",
    "print(f\"The mode(s) of the array are: {mode_values}\")\n",
    "\n",
    "vaex_df['passenger_count'] = vaex_df['passenger_count'].fillna(value = int(mode_values)) #filling mode value"
   ]
  },
  {
   "cell_type": "code",
   "execution_count": 9,
   "id": "99217d64",
   "metadata": {},
   "outputs": [
    {
     "data": {
      "text/plain": [
       "[nan, 6.0, 99.0, 5.0, 2.0, 3.0, 1.0, 4.0]"
      ]
     },
     "execution_count": 9,
     "metadata": {},
     "output_type": "execute_result"
    }
   ],
   "source": [
    "vaex_df['ratecodeid'].unique()"
   ]
  },
  {
   "cell_type": "code",
   "execution_count": 10,
   "id": "23cb26e5",
   "metadata": {},
   "outputs": [
    {
     "name": "stdout",
     "output_type": "stream",
     "text": [
      "The mode(s) of the array are: [1.]\n"
     ]
    }
   ],
   "source": [
    "# rate code ID:\n",
    "rate_id_array = vaex_df.evaluate(vaex_df['ratecodeid'])\n",
    "\n",
    "# Create a boolean mask to filter out NaN values\n",
    "mask = ~np.isnan(rate_id_array)\n",
    "\n",
    "# Filter the array to remove NaN values\n",
    "rate_id_array_without_nan = rate_id_array[mask]\n",
    "\n",
    "# Calculate the mode using numpy.unique()\n",
    "unique_elements, counts = np.unique(rate_id_array_without_nan, return_counts=True)\n",
    "\n",
    "# Find the mode(s) - the value(s) with the highest count\n",
    "mode_values = unique_elements[counts == counts.max()]\n",
    "\n",
    "print(f\"The mode(s) of the array are: {mode_values}\")\n",
    "\n",
    "vaex_df['ratecodeid'] = vaex_df['ratecodeid'].fillna(value = int(mode_values)) #filling mode value"
   ]
  },
  {
   "cell_type": "code",
   "execution_count": 11,
   "id": "9cba237f",
   "metadata": {},
   "outputs": [
    {
     "data": {
      "text/plain": [
       "vendorid             0.000000\n",
       "passenger_count      0.000000\n",
       "trip_distance        0.000000\n",
       "ratecodeid           0.000000\n",
       "pulocationid         0.000000\n",
       "dolocationid         0.000000\n",
       "fare_amount          0.000000\n",
       "__vendorid           0.292185\n",
       "__passenger_count    0.292185\n",
       "__ratecodeid         0.292185\n",
       "dtype: float64"
      ]
     },
     "execution_count": 11,
     "metadata": {},
     "output_type": "execute_result"
    }
   ],
   "source": [
    "col_NaN = []\n",
    "\n",
    "for col in vaex_df.column_names:\n",
    "    nan_value = vaex_df[col].isna().sum().item()\n",
    "    col_NaN.append(nan_value / len(vaex_df) * 100)\n",
    "\n",
    "s = pd.Series(data=col_NaN, index=vaex_df.column_names).sort_values(ascending=True)\n",
    "s"
   ]
  },
  {
   "cell_type": "markdown",
   "id": "d0b0d572",
   "metadata": {},
   "source": [
    "so all the null values are treated now."
   ]
  },
  {
   "cell_type": "markdown",
   "id": "c5907256",
   "metadata": {},
   "source": [
    "### Handling outliers:"
   ]
  },
  {
   "cell_type": "code",
   "execution_count": 14,
   "id": "2ab4dfc6",
   "metadata": {},
   "outputs": [
    {
     "name": "stdout",
     "output_type": "stream",
     "text": [
      "The correlation value between fare_charge and vendorid is: 0.001037575283722214\n",
      "The correlation value between fare_charge and passenger_count is: 0.00019365279581163273\n",
      "The correlation value between fare_charge and trip_distance is: 0.029766857836222273\n",
      "The correlation value between fare_charge and ratecodeid is: 0.022590496770560922\n"
     ]
    }
   ],
   "source": [
    "# Calculate the correlation:\n",
    "print(f\"The correlation value between fare_charge and vendorid is: {vaex_df.correlation(vaex_df['vendorid'],vaex_df['fare_amount'])}\")\n",
    "print(f\"The correlation value between fare_charge and passenger_count is: {vaex_df.correlation(vaex_df['passenger_count'],vaex_df['fare_amount'])}\")\n",
    "print(f\"The correlation value between fare_charge and trip_distance is: {vaex_df.correlation(vaex_df['trip_distance'],vaex_df['fare_amount'])}\")\n",
    "print(f\"The correlation value between fare_charge and ratecodeid is: {vaex_df.correlation(vaex_df['ratecodeid'],vaex_df['fare_amount'])}\")"
   ]
  },
  {
   "cell_type": "markdown",
   "id": "7782c6f9",
   "metadata": {},
   "source": [
    "1. From basic sense we can say that atleast fare_charge and trip_distance should have a strong positive correlation but as can be seen, though they are having positive correlation but that is not strong enough. This is because of outliers present in both the columns.\n",
    "2. Below, when we plot all the 8.4 crore points, we are unable to see any kind of linear pattern between trip_distance and fare_charge but we could easily see outliers which are responsible for scalling up the graph so much that the actual relationship between both the columns cannot be seen."
   ]
  },
  {
   "cell_type": "code",
   "execution_count": 22,
   "id": "d0889c0f",
   "metadata": {},
   "outputs": [
    {
     "data": {
      "text/plain": [
       "<matplotlib.collections.PathCollection at 0x20b7f815b10>"
      ]
     },
     "execution_count": 22,
     "metadata": {},
     "output_type": "execute_result"
    },
    {
     "data": {
      "image/png": "[encoded data removed]",
      "text/plain": [
       "<Figure size 640x480 with 1 Axes>"
      ]
     },
     "metadata": {},
     "output_type": "display_data"
    }
   ],
   "source": [
    "#Scatter plot between various columns with fare_charge:\n",
    "vaex_df.viz.scatter(x=vaex_df['trip_distance'],y=vaex_df['fare_amount'],length_check=False)"
   ]
  },
  {
   "cell_type": "code",
   "execution_count": 23,
   "id": "f9ff52b9",
   "metadata": {},
   "outputs": [
    {
     "name": "stdout",
     "output_type": "stream",
     "text": [
      "The 'trip_distance' column contains negative values.\n"
     ]
    }
   ],
   "source": [
    "# Check if there are any negative values in the \"trip_distance\" column\n",
    "if vaex_df['trip_distance'].min() < 0:\n",
    "    print(\"The 'trip_distance' column contains negative values.\")\n",
    "else:\n",
    "    print(\"The 'trip_distance' column does not contain negative values.\")\n"
   ]
  },
  {
   "cell_type": "markdown",
   "id": "21e17984",
   "metadata": {},
   "source": [
    "1. As can be seen in the figure below, when we remove the outliers from the trip_distance by shortning our scale (from 0 to 100), still we are unable to see any kind of relationship and this is becuase there are outliers present in the fare_charge column as well. Hence we need to tackle them as well."
   ]
  },
  {
   "cell_type": "code",
   "execution_count": 53,
   "id": "5c825634",
   "metadata": {
    "scrolled": true
   },
   "outputs": [
    {
     "data": {
      "text/plain": [
       "<matplotlib.collections.PathCollection at 0x23349edfa90>"
      ]
     },
     "execution_count": 53,
     "metadata": {},
     "output_type": "execute_result"
    },
    {
     "data": {
      "image/png": "[encoded data removed]",
      "text/plain": [
       "<Figure size 640x480 with 1 Axes>"
      ]
     },
     "metadata": {},
     "output_type": "display_data"
    }
   ],
   "source": [
    "plt.scatter(x= filtered_np_df, y=filtered_np_df1)"
   ]
  },
  {
   "cell_type": "markdown",
   "id": "56fa4860",
   "metadata": {},
   "source": [
    "- But as soon as we limit our size and randomly pick some samples from the dataset, we could easily see a linear relationship between the columns."
   ]
  },
  {
   "cell_type": "code",
   "execution_count": 71,
   "id": "7e9e3ee1",
   "metadata": {},
   "outputs": [
    {
     "data": {
      "text/plain": [
       " 0.90      1633310\n",
       " 0.80      1628377\n",
       " 1.00      1604702\n",
       " 0.70      1548413\n",
       " 1.10      1531523\n",
       "            ...   \n",
       " 120.60          1\n",
       " 60.27           1\n",
       "-25.70           1\n",
       "-19.93           1\n",
       " 79.60           1\n",
       "Length: 9519, dtype: int64"
      ]
     },
     "execution_count": 71,
     "metadata": {},
     "output_type": "execute_result"
    }
   ],
   "source": [
    "vaex_df.trip_distance.value_counts()"
   ]
  },
  {
   "cell_type": "code",
   "execution_count": 41,
   "id": "f57c22e3",
   "metadata": {},
   "outputs": [],
   "source": [
    "# Randomly sample 1000 points from the DataFrame for plotting\n",
    "sample_df = vaex_df.sample(n=1000)"
   ]
  },
  {
   "cell_type": "code",
   "execution_count": 42,
   "id": "474a505a",
   "metadata": {},
   "outputs": [
    {
     "data": {
      "text/plain": [
       "<matplotlib.collections.PathCollection at 0x23950dff340>"
      ]
     },
     "execution_count": 42,
     "metadata": {},
     "output_type": "execute_result"
    },
    {
     "data": {
      "image/png": "[encoded data removed]",
      "text/plain": [
       "<Figure size 640x480 with 1 Axes>"
      ]
     },
     "metadata": {},
     "output_type": "display_data"
    }
   ],
   "source": [
    "sample_df.viz.scatter(x=sample_df['trip_distance'],y=sample_df['fare_amount'])"
   ]
  },
  {
   "cell_type": "code",
   "execution_count": 12,
   "id": "21f26cfb",
   "metadata": {},
   "outputs": [],
   "source": [
    "new_df_trip_filtered100 = vaex_df[vaex_df.trip_distance < 100]\n",
    "new_df_trip_filtered0 = new_df_trip_filtered100[new_df_trip_filtered100.trip_distance>0]"
   ]
  },
  {
   "cell_type": "code",
   "execution_count": 13,
   "id": "73beba73",
   "metadata": {},
   "outputs": [
    {
     "data": {
      "text/plain": [
       "(83647779, 7)"
      ]
     },
     "execution_count": 13,
     "metadata": {},
     "output_type": "execute_result"
    }
   ],
   "source": [
    "new_df_trip_filtered0.shape"
   ]
  },
  {
   "cell_type": "code",
   "execution_count": 14,
   "id": "70d2f936",
   "metadata": {},
   "outputs": [
    {
     "data": {
      "text/plain": [
       " 6.00      4111639\n",
       " 6.50      4073221\n",
       " 7.00      3990914\n",
       " 5.50      3975099\n",
       " 7.50      3823772\n",
       "            ...   \n",
       "-86.70           1\n",
       " 78.76           1\n",
       "-48.99           1\n",
       "-129.00          1\n",
       " 254.30          1\n",
       "Length: 9970, dtype: int64"
      ]
     },
     "execution_count": 14,
     "metadata": {},
     "output_type": "execute_result"
    }
   ],
   "source": [
    "new_df_trip_filtered0.fare_amount.value_counts()"
   ]
  },
  {
   "cell_type": "code",
   "execution_count": 15,
   "id": "32d79a77",
   "metadata": {},
   "outputs": [],
   "source": [
    "new_df_fare_filtered100 = new_df_trip_filtered0[new_df_trip_filtered0.fare_amount < 100]\n",
    "new_df_fare_filtered0 = new_df_fare_filtered100[new_df_fare_filtered100.fare_amount > 0]"
   ]
  },
  {
   "cell_type": "code",
   "execution_count": 16,
   "id": "0e15b5d3",
   "metadata": {},
   "outputs": [
    {
     "data": {
      "text/plain": [
       "(83424919, 7)"
      ]
     },
     "execution_count": 16,
     "metadata": {},
     "output_type": "execute_result"
    }
   ],
   "source": [
    "new_df_fare_filtered0.shape"
   ]
  },
  {
   "cell_type": "code",
   "execution_count": 17,
   "id": "452ffdd1",
   "metadata": {},
   "outputs": [
    {
     "name": "stdout",
     "output_type": "stream",
     "text": [
      "The correlation value between fare_charge and trip_distance is: 0.9417799094793031\n"
     ]
    }
   ],
   "source": [
    "print(f\"The correlation value between fare_charge and trip_distance is: {new_df_fare_filtered0.correlation(new_df_fare_filtered0['trip_distance'],new_df_fare_filtered0['fare_amount'])}\")"
   ]
  },
  {
   "cell_type": "markdown",
   "id": "75600a00",
   "metadata": {},
   "source": [
    "#### hence we got a strong positive correlation between them (0.94)\n",
    "#### Now similarly handling outliers (if present) in other columns as well."
   ]
  },
  {
   "cell_type": "code",
   "execution_count": 105,
   "id": "933eca19",
   "metadata": {},
   "outputs": [
    {
     "data": {
      "text/plain": [
       "<matplotlib.collections.PathCollection at 0x121523f4e80>"
      ]
     },
     "execution_count": 105,
     "metadata": {},
     "output_type": "execute_result"
    },
    {
     "data": {
      "image/png": "[encoded data removed]",
      "text/plain": [
       "<Figure size 640x480 with 1 Axes>"
      ]
     },
     "metadata": {},
     "output_type": "display_data"
    }
   ],
   "source": [
    "samples = new_df_fare_filtered0.sample(n=10000)\n",
    "samples.viz.scatter(x = samples.ratecodeid, y = samples.fare_amount)"
   ]
  },
  {
   "cell_type": "code",
   "execution_count": 106,
   "id": "8c572457",
   "metadata": {},
   "outputs": [
    {
     "data": {
      "text/plain": [
       "[6.0, 99.0, 5.0, 2.0, 3.0, 1.0, 4.0]"
      ]
     },
     "execution_count": 106,
     "metadata": {},
     "output_type": "execute_result"
    }
   ],
   "source": [
    "new_df_fare_filtered0.ratecodeid.unique()"
   ]
  },
  {
   "cell_type": "code",
   "execution_count": 107,
   "id": "fe07cefe",
   "metadata": {},
   "outputs": [
    {
     "data": {
      "text/plain": [
       "1.0     80805511\n",
       "2.0      2147798\n",
       "5.0       243108\n",
       "3.0       175535\n",
       "4.0        50878\n",
       "99.0        1886\n",
       "6.0          203\n",
       "dtype: int64"
      ]
     },
     "execution_count": 107,
     "metadata": {},
     "output_type": "execute_result"
    }
   ],
   "source": [
    "new_df_fare_filtered0.ratecodeid.value_counts()"
   ]
  },
  {
   "cell_type": "markdown",
   "id": "4838dbbb",
   "metadata": {},
   "source": [
    "- so there is an outlier in the rate_code_id column which is a categorical column.\n",
    "- the outlier seems to be rate_code_id with value 99."
   ]
  },
  {
   "cell_type": "code",
   "execution_count": 18,
   "id": "5aad9806",
   "metadata": {},
   "outputs": [],
   "source": [
    "new_df_ratecode_filtered = new_df_fare_filtered0[new_df_fare_filtered0.ratecodeid<7]"
   ]
  },
  {
   "cell_type": "code",
   "execution_count": 19,
   "id": "577d69db",
   "metadata": {},
   "outputs": [
    {
     "data": {
      "text/plain": [
       "[6.0, 5.0, 2.0, 3.0, 1.0, 4.0]"
      ]
     },
     "execution_count": 19,
     "metadata": {},
     "output_type": "execute_result"
    }
   ],
   "source": [
    "new_df_ratecode_filtered.ratecodeid.unique()"
   ]
  },
  {
   "cell_type": "code",
   "execution_count": 114,
   "id": "ed4bc61a",
   "metadata": {},
   "outputs": [
    {
     "data": {
      "text/plain": [
       "[2.0, 1.0, 4.0]"
      ]
     },
     "execution_count": 114,
     "metadata": {},
     "output_type": "execute_result"
    }
   ],
   "source": [
    "# similarly vendor_id is also a categorical column. lets check if any outlier present:\n",
    "new_df_ratecode_filtered.vendorid.unique()"
   ]
  },
  {
   "cell_type": "code",
   "execution_count": 115,
   "id": "ce0e3c98",
   "metadata": {
    "scrolled": true
   },
   "outputs": [
    {
     "data": {
      "text/plain": [
       "<matplotlib.collections.PathCollection at 0x12152477670>"
      ]
     },
     "execution_count": 115,
     "metadata": {},
     "output_type": "execute_result"
    },
    {
     "data": {
      "image/png": "[encoded data removed]",
      "text/plain": [
       "<Figure size 640x480 with 1 Axes>"
      ]
     },
     "metadata": {},
     "output_type": "display_data"
    }
   ],
   "source": [
    "samples = new_df_ratecode_filtered.sample(n=1000)\n",
    "samples.viz.scatter(x = samples.vendorid, y = samples.fare_amount)"
   ]
  },
  {
   "cell_type": "markdown",
   "id": "7e299672",
   "metadata": {},
   "source": [
    "- definately vendorid with values 4 can be treated as an outlier and hence we need to remove it."
   ]
  },
  {
   "cell_type": "code",
   "execution_count": 20,
   "id": "bc535c73",
   "metadata": {},
   "outputs": [],
   "source": [
    "new_df_vendor_filtered = new_df_ratecode_filtered[new_df_ratecode_filtered.vendorid < 2.5]"
   ]
  },
  {
   "cell_type": "code",
   "execution_count": 21,
   "id": "e2f63d14",
   "metadata": {},
   "outputs": [
    {
     "data": {
      "text/plain": [
       "(83157794, 7)"
      ]
     },
     "execution_count": 21,
     "metadata": {},
     "output_type": "execute_result"
    }
   ],
   "source": [
    "new_df_vendor_filtered.shape"
   ]
  },
  {
   "cell_type": "code",
   "execution_count": 118,
   "id": "d8637a35",
   "metadata": {},
   "outputs": [
    {
     "data": {
      "text/plain": [
       "[2.0, 1.0]"
      ]
     },
     "execution_count": 118,
     "metadata": {},
     "output_type": "execute_result"
    }
   ],
   "source": [
    "new_df_vendor_filtered.vendorid.unique()"
   ]
  },
  {
   "cell_type": "code",
   "execution_count": 119,
   "id": "17024e95",
   "metadata": {},
   "outputs": [
    {
     "data": {
      "text/plain": [
       "[0.0, 6.0, 5.0, 2.0, 3.0, 9.0, 8.0, 1.0, 4.0, 7.0]"
      ]
     },
     "execution_count": 119,
     "metadata": {},
     "output_type": "execute_result"
    }
   ],
   "source": [
    "# Checking Passenger_count column for outliers:\n",
    "new_df_vendor_filtered.passenger_count.unique()"
   ]
  },
  {
   "cell_type": "code",
   "execution_count": 120,
   "id": "d057a30a",
   "metadata": {},
   "outputs": [
    {
     "data": {
      "text/plain": [
       "<matplotlib.collections.PathCollection at 0x12152534a30>"
      ]
     },
     "execution_count": 120,
     "metadata": {},
     "output_type": "execute_result"
    },
    {
     "data": {
      "image/png": "[encoded data removed]",
      "text/plain": [
       "<Figure size 640x480 with 1 Axes>"
      ]
     },
     "metadata": {},
     "output_type": "display_data"
    }
   ],
   "source": [
    "samples = new_df_vendor_filtered.sample(n=50000)\n",
    "samples.viz.scatter(x=samples.passenger_count , y=samples.fare_amount)"
   ]
  },
  {
   "cell_type": "code",
   "execution_count": 121,
   "id": "cbc12fad",
   "metadata": {},
   "outputs": [
    {
     "data": {
      "text/plain": [
       "1.0    58345840\n",
       "2.0    12661427\n",
       "3.0     3552168\n",
       "5.0     3378434\n",
       "6.0     2028863\n",
       "4.0     1690597\n",
       "0.0     1500078\n",
       "7.0         162\n",
       "8.0         127\n",
       "9.0          98\n",
       "dtype: int64"
      ]
     },
     "execution_count": 121,
     "metadata": {},
     "output_type": "execute_result"
    }
   ],
   "source": [
    "new_df_vendor_filtered.passenger_count.value_counts()"
   ]
  },
  {
   "cell_type": "code",
   "execution_count": 32,
   "id": "2e58bdce",
   "metadata": {},
   "outputs": [],
   "source": [
    "df = new_df_vendor_filtered[new_df_vendor_filtered.passenger_count<7]"
   ]
  },
  {
   "cell_type": "code",
   "execution_count": 33,
   "id": "dd47033d",
   "metadata": {},
   "outputs": [
    {
     "data": {
      "text/plain": [
       "(83157407, 7)"
      ]
     },
     "execution_count": 33,
     "metadata": {},
     "output_type": "execute_result"
    }
   ],
   "source": [
    "df.shape"
   ]
  },
  {
   "cell_type": "code",
   "execution_count": 34,
   "id": "9ec4c978",
   "metadata": {},
   "outputs": [
    {
     "data": {
      "text/plain": [
       "[0.0, 6.0, 5.0, 2.0, 3.0, 1.0, 4.0]"
      ]
     },
     "execution_count": 34,
     "metadata": {},
     "output_type": "execute_result"
    }
   ],
   "source": [
    "df.passenger_count.unique()"
   ]
  },
  {
   "cell_type": "code",
   "execution_count": 125,
   "id": "bd2c3962",
   "metadata": {},
   "outputs": [
    {
     "data": {
      "text/plain": [
       "<matplotlib.collections.PathCollection at 0x121527eb4f0>"
      ]
     },
     "execution_count": 125,
     "metadata": {},
     "output_type": "execute_result"
    },
    {
     "data": {
      "image/png": "[encoded data removed]",
      "text/plain": [
       "<Figure size 640x480 with 1 Axes>"
      ]
     },
     "metadata": {},
     "output_type": "display_data"
    }
   ],
   "source": [
    "samples = df.sample(n=10000)\n",
    "samples.viz.scatter(x=samples.pulocationid,y=samples.fare_amount)"
   ]
  },
  {
   "cell_type": "code",
   "execution_count": 24,
   "id": "8320e588",
   "metadata": {},
   "outputs": [
    {
     "data": {
      "text/plain": [
       "[<matplotlib.lines.Line2D at 0x1f63453d630>]"
      ]
     },
     "execution_count": 24,
     "metadata": {},
     "output_type": "execute_result"
    },
    {
     "data": {
      "image/png": "[encoded data removed]",
      "text/plain": [
       "<Figure size 640x480 with 1 Axes>"
      ]
     },
     "metadata": {},
     "output_type": "display_data"
    }
   ],
   "source": [
    "df.viz.histogram(x=df.pulocationid)"
   ]
  },
  {
   "cell_type": "code",
   "execution_count": 25,
   "id": "4692edb6",
   "metadata": {},
   "outputs": [
    {
     "data": {
      "text/plain": [
       "[<matplotlib.lines.Line2D at 0x1f639157430>]"
      ]
     },
     "execution_count": 25,
     "metadata": {},
     "output_type": "execute_result"
    },
    {
     "data": {
      "image/png": "[encoded data removed]",
      "text/plain": [
       "<Figure size 640x480 with 1 Axes>"
      ]
     },
     "metadata": {},
     "output_type": "display_data"
    }
   ],
   "source": [
    "df.viz.histogram(x=df.dolocationid)"
   ]
  },
  {
   "cell_type": "markdown",
   "id": "688b5ad2",
   "metadata": {},
   "source": [
    "- no need to manipulate pulocationid and dolocationid columns as they dont seems to have bothered with outliers and moreover they don't seem to have any sort of relationship with fare_amount. "
   ]
  },
  {
   "cell_type": "code",
   "execution_count": 35,
   "id": "823b4896",
   "metadata": {},
   "outputs": [
    {
     "data": {
      "text/plain": [
       "['vendorid',\n",
       " '__vendorid',\n",
       " 'passenger_count',\n",
       " '__passenger_count',\n",
       " 'trip_distance',\n",
       " 'ratecodeid',\n",
       " '__ratecodeid',\n",
       " 'pulocationid',\n",
       " 'dolocationid',\n",
       " 'fare_amount']"
      ]
     },
     "execution_count": 35,
     "metadata": {},
     "output_type": "execute_result"
    }
   ],
   "source": [
    "df.column_names"
   ]
  },
  {
   "cell_type": "code",
   "execution_count": 37,
   "id": "d3762d87",
   "metadata": {},
   "outputs": [
    {
     "data": {
      "text/html": [
       "<table>\n",
       "<thead>\n",
       "<tr><th>#                                     </th><th>vendorid  </th><th>passenger_count  </th><th>trip_distance  </th><th>ratecodeid  </th><th>fare_amount  </th></tr>\n",
       "</thead>\n",
       "<tbody>\n",
       "<tr><td><i style='opacity: 0.6'>0</i>         </td><td>1.0       </td><td>1.0              </td><td>1.5            </td><td>1.0         </td><td>3.0          </td></tr>\n",
       "<tr><td><i style='opacity: 0.6'>1</i>         </td><td>1.0       </td><td>1.0              </td><td>1.5            </td><td>1.0         </td><td>2.5          </td></tr>\n",
       "<tr><td><i style='opacity: 0.6'>2</i>         </td><td>1.0       </td><td>1.0              </td><td>0.7            </td><td>1.0         </td><td>5.0          </td></tr>\n",
       "<tr><td><i style='opacity: 0.6'>3</i>         </td><td>1.0       </td><td>1.0              </td><td>2.0            </td><td>1.0         </td><td>9.5          </td></tr>\n",
       "<tr><td><i style='opacity: 0.6'>4</i>         </td><td>1.0       </td><td>1.0              </td><td>2.5            </td><td>1.0         </td><td>10.0         </td></tr>\n",
       "<tr><td>...                                   </td><td>...       </td><td>...              </td><td>...            </td><td>...         </td><td>...          </td></tr>\n",
       "<tr><td><i style='opacity: 0.6'>83,157,402</i></td><td>2.0       </td><td>1.0              </td><td>3.11           </td><td>1.0         </td><td>26.81        </td></tr>\n",
       "<tr><td><i style='opacity: 0.6'>83,157,403</i></td><td>2.0       </td><td>1.0              </td><td>14.34          </td><td>1.0         </td><td>40.91        </td></tr>\n",
       "<tr><td><i style='opacity: 0.6'>83,157,404</i></td><td>2.0       </td><td>1.0              </td><td>13.16          </td><td>1.0         </td><td>54.25        </td></tr>\n",
       "<tr><td><i style='opacity: 0.6'>83,157,405</i></td><td>2.0       </td><td>1.0              </td><td>12.66          </td><td>1.0         </td><td>37.2         </td></tr>\n",
       "<tr><td><i style='opacity: 0.6'>83,157,406</i></td><td>2.0       </td><td>1.0              </td><td>6.77           </td><td>1.0         </td><td>29.45        </td></tr>\n",
       "</tbody>\n",
       "</table>"
      ],
      "text/plain": [
       "#           vendorid    passenger_count    trip_distance    ratecodeid    fare_amount\n",
       "0           1.0         1.0                1.5              1.0           3.0\n",
       "1           1.0         1.0                1.5              1.0           2.5\n",
       "2           1.0         1.0                0.7              1.0           5.0\n",
       "3           1.0         1.0                2.0              1.0           9.5\n",
       "4           1.0         1.0                2.5              1.0           10.0\n",
       "...         ...         ...                ...              ...           ...\n",
       "83,157,402  2.0         1.0                3.11             1.0           26.81\n",
       "83,157,403  2.0         1.0                14.34            1.0           40.91\n",
       "83,157,404  2.0         1.0                13.16            1.0           54.25\n",
       "83,157,405  2.0         1.0                12.66            1.0           37.2\n",
       "83,157,406  2.0         1.0                6.77             1.0           29.45"
      ]
     },
     "execution_count": 37,
     "metadata": {},
     "output_type": "execute_result"
    }
   ],
   "source": [
    "#dropping pulocationid and dolocationid columns from df:\n",
    "df.drop('pulocationid',inplace = True)\n",
    "df.drop('dolocationid',inplace = True)"
   ]
  },
  {
   "cell_type": "markdown",
   "id": "91fa543d",
   "metadata": {},
   "source": [
    "# train_test split:"
   ]
  },
  {
   "cell_type": "code",
   "execution_count": 72,
   "id": "cefd93cd",
   "metadata": {},
   "outputs": [
    {
     "name": "stderr",
     "output_type": "stream",
     "text": [
      "C:\\Users\\swapn\\AppData\\Local\\Programs\\Python\\Python310\\lib\\site-packages\\vaex\\ml\\__init__.py:28: UserWarning: Make sure the DataFrame is shuffled\n",
      "  warnings.warn('Make sure the DataFrame is shuffled')\n"
     ]
    }
   ],
   "source": [
    "df_train,df_test = df.shuffle().ml.train_test_split(test_size=0.01)"
   ]
  },
  {
   "cell_type": "code",
   "execution_count": 73,
   "id": "2208ed5d",
   "metadata": {},
   "outputs": [
    {
     "data": {
      "text/plain": [
       "(82325833, 5)"
      ]
     },
     "execution_count": 73,
     "metadata": {},
     "output_type": "execute_result"
    }
   ],
   "source": [
    "df_train.shape"
   ]
  },
  {
   "cell_type": "code",
   "execution_count": 74,
   "id": "876bae59",
   "metadata": {},
   "outputs": [
    {
     "data": {
      "text/plain": [
       "(831574, 5)"
      ]
     },
     "execution_count": 74,
     "metadata": {},
     "output_type": "execute_result"
    }
   ],
   "source": [
    "df_test.shape"
   ]
  },
  {
   "cell_type": "code",
   "execution_count": 75,
   "id": "3a1b53db",
   "metadata": {},
   "outputs": [],
   "source": [
    "from vaex.ml.sklearn import IncrementalPredictor\n",
    "from sklearn.linear_model import SGDRegressor"
   ]
  },
  {
   "cell_type": "code",
   "execution_count": 76,
   "id": "2a5d1e24",
   "metadata": {},
   "outputs": [
    {
     "data": {
      "application/vnd.jupyter.widget-view+json": {
       "model_id": "4c47c3fa35b748e0a4cc180e4e2b6d2b",
       "version_major": 2,
       "version_minor": 0
      },
      "text/plain": [
       "HBox(children=(FloatProgress(value=0.0, max=1.0), Label(value='In progress...')))"
      ]
     },
     "metadata": {},
     "output_type": "display_data"
    }
   ],
   "source": [
    "features = ['vendorid', 'passenger_count', 'trip_distance', 'ratecodeid']\n",
    "target = 'fare_amount'\n",
    "\n",
    "model = SGDRegressor()\n",
    "\n",
    "vaex_model = IncrementalPredictor(features=features, target=target, model=model, batch_size=1000000)\n",
    "\n",
    "vaex_model.fit(df=df_train, progress='widget')\n"
   ]
  },
  {
   "cell_type": "code",
   "execution_count": 77,
   "id": "37c4c523",
   "metadata": {},
   "outputs": [],
   "source": [
    "# Export the trained model to a pickle file\n",
    "import pickle\n",
    "pickle.dump(vaex_model, open('model_SGD.pkl', 'wb'))"
   ]
  },
  {
   "cell_type": "code",
   "execution_count": 78,
   "id": "705142e4",
   "metadata": {},
   "outputs": [],
   "source": [
    "df_test = vaex_model.transform(df_test)"
   ]
  },
  {
   "cell_type": "code",
   "execution_count": 79,
   "id": "f134d5e0",
   "metadata": {
    "scrolled": true
   },
   "outputs": [
    {
     "data": {
      "text/html": [
       "<table>\n",
       "<thead>\n",
       "<tr><th>#                            </th><th style=\"text-align: right;\">  vendorid</th><th style=\"text-align: right;\">  passenger_count</th><th style=\"text-align: right;\">  trip_distance</th><th style=\"text-align: right;\">  ratecodeid</th><th style=\"text-align: right;\">  fare_amount</th><th style=\"text-align: right;\">  prediction</th></tr>\n",
       "</thead>\n",
       "<tbody>\n",
       "<tr><td><i style='opacity: 0.6'>0</i></td><td style=\"text-align: right;\">         2</td><td style=\"text-align: right;\">                1</td><td style=\"text-align: right;\">           1.05</td><td style=\"text-align: right;\">           1</td><td style=\"text-align: right;\">          6.5</td><td style=\"text-align: right;\">     7.93092</td></tr>\n",
       "<tr><td><i style='opacity: 0.6'>1</i></td><td style=\"text-align: right;\">         2</td><td style=\"text-align: right;\">                1</td><td style=\"text-align: right;\">           0.67</td><td style=\"text-align: right;\">           1</td><td style=\"text-align: right;\">          5  </td><td style=\"text-align: right;\">     6.94506</td></tr>\n",
       "<tr><td><i style='opacity: 0.6'>2</i></td><td style=\"text-align: right;\">         2</td><td style=\"text-align: right;\">                6</td><td style=\"text-align: right;\">           0.95</td><td style=\"text-align: right;\">           1</td><td style=\"text-align: right;\">          6.5</td><td style=\"text-align: right;\">     7.8347 </td></tr>\n",
       "<tr><td><i style='opacity: 0.6'>3</i></td><td style=\"text-align: right;\">         1</td><td style=\"text-align: right;\">                1</td><td style=\"text-align: right;\">           2.9 </td><td style=\"text-align: right;\">           1</td><td style=\"text-align: right;\">         12.5</td><td style=\"text-align: right;\">    12.8534 </td></tr>\n",
       "<tr><td><i style='opacity: 0.6'>4</i></td><td style=\"text-align: right;\">         2</td><td style=\"text-align: right;\">                1</td><td style=\"text-align: right;\">           1.62</td><td style=\"text-align: right;\">           1</td><td style=\"text-align: right;\">         10  </td><td style=\"text-align: right;\">     9.4097 </td></tr>\n",
       "<tr><td><i style='opacity: 0.6'>5</i></td><td style=\"text-align: right;\">         2</td><td style=\"text-align: right;\">                1</td><td style=\"text-align: right;\">           1.08</td><td style=\"text-align: right;\">           1</td><td style=\"text-align: right;\">          7.5</td><td style=\"text-align: right;\">     8.00875</td></tr>\n",
       "<tr><td><i style='opacity: 0.6'>6</i></td><td style=\"text-align: right;\">         1</td><td style=\"text-align: right;\">                1</td><td style=\"text-align: right;\">           2.1 </td><td style=\"text-align: right;\">           1</td><td style=\"text-align: right;\">         11  </td><td style=\"text-align: right;\">    10.7779 </td></tr>\n",
       "<tr><td><i style='opacity: 0.6'>7</i></td><td style=\"text-align: right;\">         2</td><td style=\"text-align: right;\">                1</td><td style=\"text-align: right;\">           3.84</td><td style=\"text-align: right;\">           1</td><td style=\"text-align: right;\">         15.5</td><td style=\"text-align: right;\">    15.1692 </td></tr>\n",
       "<tr><td><i style='opacity: 0.6'>8</i></td><td style=\"text-align: right;\">         2</td><td style=\"text-align: right;\">                1</td><td style=\"text-align: right;\">           5.05</td><td style=\"text-align: right;\">           1</td><td style=\"text-align: right;\">         20  </td><td style=\"text-align: right;\">    18.3084 </td></tr>\n",
       "<tr><td><i style='opacity: 0.6'>9</i></td><td style=\"text-align: right;\">         1</td><td style=\"text-align: right;\">                1</td><td style=\"text-align: right;\">           1.1 </td><td style=\"text-align: right;\">           1</td><td style=\"text-align: right;\">          7  </td><td style=\"text-align: right;\">     8.18359</td></tr>\n",
       "</tbody>\n",
       "</table>"
      ],
      "text/plain": [
       "  #    vendorid    passenger_count    trip_distance    ratecodeid    fare_amount    prediction\n",
       "  0           2                  1             1.05             1            6.5       7.93092\n",
       "  1           2                  1             0.67             1            5         6.94506\n",
       "  2           2                  6             0.95             1            6.5       7.8347\n",
       "  3           1                  1             2.9              1           12.5      12.8534\n",
       "  4           2                  1             1.62             1           10         9.4097\n",
       "  5           2                  1             1.08             1            7.5       8.00875\n",
       "  6           1                  1             2.1              1           11        10.7779\n",
       "  7           2                  1             3.84             1           15.5      15.1692\n",
       "  8           2                  1             5.05             1           20        18.3084\n",
       "  9           1                  1             1.1              1            7         8.18359"
      ]
     },
     "execution_count": 79,
     "metadata": {},
     "output_type": "execute_result"
    }
   ],
   "source": [
    "df_test.head()"
   ]
  },
  {
   "cell_type": "code",
   "execution_count": 88,
   "id": "9611dab3",
   "metadata": {},
   "outputs": [
    {
     "name": "stdout",
     "output_type": "stream",
     "text": [
      "R2 score : 0.8974953056387874\n",
      "MAE : 2.1102811558044094\n"
     ]
    }
   ],
   "source": [
    "import sklearn\n",
    "from sklearn.metrics import r2_score\n",
    "print(\"R2 score :\",r2_score(y_true = df_test['fare_amount'].values, y_pred = df_test['prediction'].values))\n",
    "print('MAE :',mean_absolute_error(df_test['fare_amount'].values,df_test['prediction'].values))"
   ]
  },
  {
   "cell_type": "code",
   "execution_count": 103,
   "id": "d97d40f0",
   "metadata": {},
   "outputs": [
    {
     "name": "stderr",
     "output_type": "stream",
     "text": [
      "C:\\Users\\swapn\\AppData\\Local\\Programs\\Python\\Python310\\lib\\site-packages\\vaex\\ml\\__init__.py:28: UserWarning: Make sure the DataFrame is shuffled\n",
      "  warnings.warn('Make sure the DataFrame is shuffled')\n"
     ]
    },
    {
     "data": {
      "text/html": [
       "<table>\n",
       "<thead>\n",
       "<tr><th>#                            </th><th style=\"text-align: right;\">  vendorid</th><th style=\"text-align: right;\">  passenger_count</th><th style=\"text-align: right;\">  trip_distance</th><th style=\"text-align: right;\">  ratecodeid</th><th style=\"text-align: right;\">  fare_amount</th><th style=\"text-align: right;\">  scaled_vendorid</th><th style=\"text-align: right;\">  scaled_passenger_count</th><th style=\"text-align: right;\">  scaled_trip_distance</th><th style=\"text-align: right;\">  scaled_ratecodeid</th><th style=\"text-align: right;\">  scaled_fare_amount</th></tr>\n",
       "</thead>\n",
       "<tbody>\n",
       "<tr><td><i style='opacity: 0.6'>0</i></td><td style=\"text-align: right;\">         1</td><td style=\"text-align: right;\">                1</td><td style=\"text-align: right;\">           1.5 </td><td style=\"text-align: right;\">           1</td><td style=\"text-align: right;\">          3  </td><td style=\"text-align: right;\">        -1.3322  </td><td style=\"text-align: right;\">               -0.466957</td><td style=\"text-align: right;\">            -0.393891 </td><td style=\"text-align: right;\">           -0.14956</td><td style=\"text-align: right;\">          -0.914489 </td></tr>\n",
       "<tr><td><i style='opacity: 0.6'>1</i></td><td style=\"text-align: right;\">         1</td><td style=\"text-align: right;\">                1</td><td style=\"text-align: right;\">           1.5 </td><td style=\"text-align: right;\">           1</td><td style=\"text-align: right;\">          2.5</td><td style=\"text-align: right;\">        -1.3322  </td><td style=\"text-align: right;\">               -0.466957</td><td style=\"text-align: right;\">            -0.393891 </td><td style=\"text-align: right;\">           -0.14956</td><td style=\"text-align: right;\">          -0.959671 </td></tr>\n",
       "<tr><td><i style='opacity: 0.6'>2</i></td><td style=\"text-align: right;\">         1</td><td style=\"text-align: right;\">                1</td><td style=\"text-align: right;\">           0.7 </td><td style=\"text-align: right;\">           1</td><td style=\"text-align: right;\">          5  </td><td style=\"text-align: right;\">        -1.3322  </td><td style=\"text-align: right;\">               -0.466957</td><td style=\"text-align: right;\">            -0.602373 </td><td style=\"text-align: right;\">           -0.14956</td><td style=\"text-align: right;\">          -0.73376  </td></tr>\n",
       "<tr><td><i style='opacity: 0.6'>3</i></td><td style=\"text-align: right;\">         1</td><td style=\"text-align: right;\">                1</td><td style=\"text-align: right;\">           2   </td><td style=\"text-align: right;\">           1</td><td style=\"text-align: right;\">          9.5</td><td style=\"text-align: right;\">        -1.3322  </td><td style=\"text-align: right;\">               -0.466957</td><td style=\"text-align: right;\">            -0.26359  </td><td style=\"text-align: right;\">           -0.14956</td><td style=\"text-align: right;\">          -0.32712  </td></tr>\n",
       "<tr><td><i style='opacity: 0.6'>4</i></td><td style=\"text-align: right;\">         1</td><td style=\"text-align: right;\">                1</td><td style=\"text-align: right;\">           2.5 </td><td style=\"text-align: right;\">           1</td><td style=\"text-align: right;\">         10  </td><td style=\"text-align: right;\">        -1.3322  </td><td style=\"text-align: right;\">               -0.466957</td><td style=\"text-align: right;\">            -0.133289 </td><td style=\"text-align: right;\">           -0.14956</td><td style=\"text-align: right;\">          -0.281938 </td></tr>\n",
       "<tr><td><i style='opacity: 0.6'>5</i></td><td style=\"text-align: right;\">         1</td><td style=\"text-align: right;\">                1</td><td style=\"text-align: right;\">           2.8 </td><td style=\"text-align: right;\">           1</td><td style=\"text-align: right;\">         11.5</td><td style=\"text-align: right;\">        -1.3322  </td><td style=\"text-align: right;\">               -0.466957</td><td style=\"text-align: right;\">            -0.0551078</td><td style=\"text-align: right;\">           -0.14956</td><td style=\"text-align: right;\">          -0.146392 </td></tr>\n",
       "<tr><td><i style='opacity: 0.6'>6</i></td><td style=\"text-align: right;\">         1</td><td style=\"text-align: right;\">                1</td><td style=\"text-align: right;\">           2   </td><td style=\"text-align: right;\">           1</td><td style=\"text-align: right;\">          8  </td><td style=\"text-align: right;\">        -1.3322  </td><td style=\"text-align: right;\">               -0.466957</td><td style=\"text-align: right;\">            -0.26359  </td><td style=\"text-align: right;\">           -0.14956</td><td style=\"text-align: right;\">          -0.462667 </td></tr>\n",
       "<tr><td><i style='opacity: 0.6'>7</i></td><td style=\"text-align: right;\">         1</td><td style=\"text-align: right;\">                1</td><td style=\"text-align: right;\">           3.7 </td><td style=\"text-align: right;\">           1</td><td style=\"text-align: right;\">         13.5</td><td style=\"text-align: right;\">        -1.3322  </td><td style=\"text-align: right;\">               -0.466957</td><td style=\"text-align: right;\">             0.179435 </td><td style=\"text-align: right;\">           -0.14956</td><td style=\"text-align: right;\">           0.0343372</td></tr>\n",
       "<tr><td><i style='opacity: 0.6'>8</i></td><td style=\"text-align: right;\">         2</td><td style=\"text-align: right;\">                1</td><td style=\"text-align: right;\">           2.09</td><td style=\"text-align: right;\">           1</td><td style=\"text-align: right;\">         13  </td><td style=\"text-align: right;\">         0.750637</td><td style=\"text-align: right;\">               -0.466957</td><td style=\"text-align: right;\">            -0.240136 </td><td style=\"text-align: right;\">           -0.14956</td><td style=\"text-align: right;\">          -0.010845 </td></tr>\n",
       "<tr><td><i style='opacity: 0.6'>9</i></td><td style=\"text-align: right;\">         1</td><td style=\"text-align: right;\">                1</td><td style=\"text-align: right;\">           2.5 </td><td style=\"text-align: right;\">           1</td><td style=\"text-align: right;\">         11  </td><td style=\"text-align: right;\">        -1.3322  </td><td style=\"text-align: right;\">               -0.466957</td><td style=\"text-align: right;\">            -0.133289 </td><td style=\"text-align: right;\">           -0.14956</td><td style=\"text-align: right;\">          -0.191574 </td></tr>\n",
       "</tbody>\n",
       "</table>"
      ],
      "text/plain": [
       "  #    vendorid    passenger_count    trip_distance    ratecodeid    fare_amount    scaled_vendorid    scaled_passenger_count    scaled_trip_distance    scaled_ratecodeid    scaled_fare_amount\n",
       "  0           1                  1             1.5              1            3            -1.3322                   -0.466957              -0.393891              -0.14956            -0.914489\n",
       "  1           1                  1             1.5              1            2.5          -1.3322                   -0.466957              -0.393891              -0.14956            -0.959671\n",
       "  2           1                  1             0.7              1            5            -1.3322                   -0.466957              -0.602373              -0.14956            -0.73376\n",
       "  3           1                  1             2                1            9.5          -1.3322                   -0.466957              -0.26359               -0.14956            -0.32712\n",
       "  4           1                  1             2.5              1           10            -1.3322                   -0.466957              -0.133289              -0.14956            -0.281938\n",
       "  5           1                  1             2.8              1           11.5          -1.3322                   -0.466957              -0.0551078             -0.14956            -0.146392\n",
       "  6           1                  1             2                1            8            -1.3322                   -0.466957              -0.26359               -0.14956            -0.462667\n",
       "  7           1                  1             3.7              1           13.5          -1.3322                   -0.466957               0.179435              -0.14956             0.0343372\n",
       "  8           2                  1             2.09             1           13             0.750637                 -0.466957              -0.240136              -0.14956            -0.010845\n",
       "  9           1                  1             2.5              1           11            -1.3322                   -0.466957              -0.133289              -0.14956            -0.191574"
      ]
     },
     "execution_count": 103,
     "metadata": {},
     "output_type": "execute_result"
    }
   ],
   "source": [
    "f = ['vendorid', 'passenger_count', 'trip_distance', 'ratecodeid','fare_amount']\n",
    "scaler = vaex.ml.StandardScaler(features = f, prefix = 'scaled_')\n",
    "df_trans = scaler.fit_transform(df)\n",
    "df_train_trans,df_test_trans = df_trans.shuffle().ml.train_test_split(test_size=0.1)\n",
    "df_trans.head()"
   ]
  },
  {
   "cell_type": "code",
   "execution_count": 94,
   "id": "84c70cb5",
   "metadata": {
    "scrolled": true
   },
   "outputs": [
    {
     "data": {
      "application/vnd.jupyter.widget-view+json": {
       "model_id": "2083c0f0771d4feb87b7b8f101433cf0",
       "version_major": 2,
       "version_minor": 0
      },
      "text/plain": [
       "HBox(children=(FloatProgress(value=0.0, max=1.0), Label(value='In progress...')))"
      ]
     },
     "metadata": {},
     "output_type": "display_data"
    }
   ],
   "source": [
    "features = ['scaled_vendorid', 'scaled_passenger_count', 'scaled_trip_distance', 'scaled_ratecodeid']\n",
    "target = 'scaled_fare_amount'\n",
    "\n",
    "model = SGDRegressor()\n",
    "\n",
    "vaex_model = IncrementalPredictor(features=features, target=target, model=model, batch_size=1000000)\n",
    "\n",
    "vaex_model.fit(df=df_train_trans, progress='widget')"
   ]
  },
  {
   "cell_type": "code",
   "execution_count": 104,
   "id": "de49df34",
   "metadata": {},
   "outputs": [],
   "source": [
    "df_test_t = vaex_model.transform(df_test_trans)"
   ]
  },
  {
   "cell_type": "code",
   "execution_count": 106,
   "id": "d180be71",
   "metadata": {},
   "outputs": [
    {
     "data": {
      "text/html": [
       "<table>\n",
       "<thead>\n",
       "<tr><th>#                            </th><th style=\"text-align: right;\">  vendorid</th><th style=\"text-align: right;\">  passenger_count</th><th style=\"text-align: right;\">  trip_distance</th><th style=\"text-align: right;\">  ratecodeid</th><th style=\"text-align: right;\">  fare_amount</th><th style=\"text-align: right;\">  scaled_vendorid</th><th style=\"text-align: right;\">  scaled_passenger_count</th><th style=\"text-align: right;\">  scaled_trip_distance</th><th style=\"text-align: right;\">  scaled_ratecodeid</th><th style=\"text-align: right;\">  scaled_fare_amount</th><th style=\"text-align: right;\">  prediction</th></tr>\n",
       "</thead>\n",
       "<tbody>\n",
       "<tr><td><i style='opacity: 0.6'>0</i></td><td style=\"text-align: right;\">         1</td><td style=\"text-align: right;\">                1</td><td style=\"text-align: right;\">           1.5 </td><td style=\"text-align: right;\">           1</td><td style=\"text-align: right;\">          7.5</td><td style=\"text-align: right;\">        -1.3322  </td><td style=\"text-align: right;\">               -0.466957</td><td style=\"text-align: right;\">             -0.393891</td><td style=\"text-align: right;\">           -0.14956</td><td style=\"text-align: right;\">           -0.507849</td><td style=\"text-align: right;\">   -0.3648  </td></tr>\n",
       "<tr><td><i style='opacity: 0.6'>1</i></td><td style=\"text-align: right;\">         2</td><td style=\"text-align: right;\">                2</td><td style=\"text-align: right;\">           8.95</td><td style=\"text-align: right;\">           1</td><td style=\"text-align: right;\">         31.5</td><td style=\"text-align: right;\">         0.750637</td><td style=\"text-align: right;\">                0.359312</td><td style=\"text-align: right;\">              1.5476  </td><td style=\"text-align: right;\">           -0.14956</td><td style=\"text-align: right;\">            1.6609  </td><td style=\"text-align: right;\">    1.35844 </td></tr>\n",
       "<tr><td><i style='opacity: 0.6'>2</i></td><td style=\"text-align: right;\">         1</td><td style=\"text-align: right;\">                2</td><td style=\"text-align: right;\">           0.6 </td><td style=\"text-align: right;\">           1</td><td style=\"text-align: right;\">          4.5</td><td style=\"text-align: right;\">        -1.3322  </td><td style=\"text-align: right;\">                0.359312</td><td style=\"text-align: right;\">             -0.628434</td><td style=\"text-align: right;\">           -0.14956</td><td style=\"text-align: right;\">           -0.778942</td><td style=\"text-align: right;\">   -0.573092</td></tr>\n",
       "<tr><td><i style='opacity: 0.6'>3</i></td><td style=\"text-align: right;\">         1</td><td style=\"text-align: right;\">                1</td><td style=\"text-align: right;\">           2.2 </td><td style=\"text-align: right;\">           1</td><td style=\"text-align: right;\">          9.5</td><td style=\"text-align: right;\">        -1.3322  </td><td style=\"text-align: right;\">               -0.466957</td><td style=\"text-align: right;\">             -0.211469</td><td style=\"text-align: right;\">           -0.14956</td><td style=\"text-align: right;\">           -0.32712 </td><td style=\"text-align: right;\">   -0.202682</td></tr>\n",
       "<tr><td><i style='opacity: 0.6'>4</i></td><td style=\"text-align: right;\">         2</td><td style=\"text-align: right;\">                1</td><td style=\"text-align: right;\">           8.9 </td><td style=\"text-align: right;\">           1</td><td style=\"text-align: right;\">         26  </td><td style=\"text-align: right;\">         0.750637</td><td style=\"text-align: right;\">               -0.466957</td><td style=\"text-align: right;\">              1.53457 </td><td style=\"text-align: right;\">           -0.14956</td><td style=\"text-align: right;\">            1.16389 </td><td style=\"text-align: right;\">    1.34672 </td></tr>\n",
       "<tr><td><i style='opacity: 0.6'>5</i></td><td style=\"text-align: right;\">         1</td><td style=\"text-align: right;\">                1</td><td style=\"text-align: right;\">           1.8 </td><td style=\"text-align: right;\">           1</td><td style=\"text-align: right;\">         11.5</td><td style=\"text-align: right;\">        -1.3322  </td><td style=\"text-align: right;\">               -0.466957</td><td style=\"text-align: right;\">             -0.31571 </td><td style=\"text-align: right;\">           -0.14956</td><td style=\"text-align: right;\">           -0.146392</td><td style=\"text-align: right;\">   -0.295321</td></tr>\n",
       "<tr><td><i style='opacity: 0.6'>6</i></td><td style=\"text-align: right;\">         2</td><td style=\"text-align: right;\">                1</td><td style=\"text-align: right;\">           1.24</td><td style=\"text-align: right;\">           1</td><td style=\"text-align: right;\">          7  </td><td style=\"text-align: right;\">         0.750637</td><td style=\"text-align: right;\">               -0.466957</td><td style=\"text-align: right;\">             -0.461648</td><td style=\"text-align: right;\">           -0.14956</td><td style=\"text-align: right;\">           -0.553031</td><td style=\"text-align: right;\">   -0.427311</td></tr>\n",
       "<tr><td><i style='opacity: 0.6'>7</i></td><td style=\"text-align: right;\">         2</td><td style=\"text-align: right;\">                2</td><td style=\"text-align: right;\">           1.3 </td><td style=\"text-align: right;\">           1</td><td style=\"text-align: right;\">          7  </td><td style=\"text-align: right;\">         0.750637</td><td style=\"text-align: right;\">                0.359312</td><td style=\"text-align: right;\">             -0.446012</td><td style=\"text-align: right;\">           -0.14956</td><td style=\"text-align: right;\">           -0.553031</td><td style=\"text-align: right;\">   -0.41327 </td></tr>\n",
       "<tr><td><i style='opacity: 0.6'>8</i></td><td style=\"text-align: right;\">         2</td><td style=\"text-align: right;\">                1</td><td style=\"text-align: right;\">           1.08</td><td style=\"text-align: right;\">           1</td><td style=\"text-align: right;\">          6  </td><td style=\"text-align: right;\">         0.750637</td><td style=\"text-align: right;\">               -0.466957</td><td style=\"text-align: right;\">             -0.503344</td><td style=\"text-align: right;\">           -0.14956</td><td style=\"text-align: right;\">           -0.643396</td><td style=\"text-align: right;\">   -0.464366</td></tr>\n",
       "<tr><td><i style='opacity: 0.6'>9</i></td><td style=\"text-align: right;\">         1</td><td style=\"text-align: right;\">                1</td><td style=\"text-align: right;\">           1.6 </td><td style=\"text-align: right;\">           1</td><td style=\"text-align: right;\">          8.5</td><td style=\"text-align: right;\">        -1.3322  </td><td style=\"text-align: right;\">               -0.466957</td><td style=\"text-align: right;\">             -0.367831</td><td style=\"text-align: right;\">           -0.14956</td><td style=\"text-align: right;\">           -0.417485</td><td style=\"text-align: right;\">   -0.34164 </td></tr>\n",
       "</tbody>\n",
       "</table>"
      ],
      "text/plain": [
       "  #    vendorid    passenger_count    trip_distance    ratecodeid    fare_amount    scaled_vendorid    scaled_passenger_count    scaled_trip_distance    scaled_ratecodeid    scaled_fare_amount    prediction\n",
       "  0           1                  1             1.5              1            7.5          -1.3322                   -0.466957               -0.393891             -0.14956             -0.507849     -0.3648\n",
       "  1           2                  2             8.95             1           31.5           0.750637                  0.359312                1.5476               -0.14956              1.6609        1.35844\n",
       "  2           1                  2             0.6              1            4.5          -1.3322                    0.359312               -0.628434             -0.14956             -0.778942     -0.573092\n",
       "  3           1                  1             2.2              1            9.5          -1.3322                   -0.466957               -0.211469             -0.14956             -0.32712      -0.202682\n",
       "  4           2                  1             8.9              1           26             0.750637                 -0.466957                1.53457              -0.14956              1.16389       1.34672\n",
       "  5           1                  1             1.8              1           11.5          -1.3322                   -0.466957               -0.31571              -0.14956             -0.146392     -0.295321\n",
       "  6           2                  1             1.24             1            7             0.750637                 -0.466957               -0.461648             -0.14956             -0.553031     -0.427311\n",
       "  7           2                  2             1.3              1            7             0.750637                  0.359312               -0.446012             -0.14956             -0.553031     -0.41327\n",
       "  8           2                  1             1.08             1            6             0.750637                 -0.466957               -0.503344             -0.14956             -0.643396     -0.464366\n",
       "  9           1                  1             1.6              1            8.5          -1.3322                   -0.466957               -0.367831             -0.14956             -0.417485     -0.34164"
      ]
     },
     "execution_count": 106,
     "metadata": {},
     "output_type": "execute_result"
    }
   ],
   "source": [
    "df_test_t.head()"
   ]
  },
  {
   "cell_type": "code",
   "execution_count": 107,
   "id": "52385569",
   "metadata": {},
   "outputs": [
    {
     "name": "stdout",
     "output_type": "stream",
     "text": [
      "R2 score : 0.8977767873763092\n",
      "MAE : 0.18903433123587984\n"
     ]
    }
   ],
   "source": [
    "print(\"R2 score :\",r2_score(y_true = df_test_t['scaled_fare_amount'].values, y_pred = df_test_t['prediction'].values))\n",
    "print('MAE :',mean_absolute_error(df_test_t['scaled_fare_amount'].values,df_test_t['prediction'].values))"
   ]
  },
  {
   "cell_type": "code",
   "execution_count": 108,
   "id": "ab2718a4",
   "metadata": {},
   "outputs": [],
   "source": [
    "pickle.dump(vaex_model, open('model_SGD_t.pkl', 'wb'))"
   ]
  },
  {
   "cell_type": "code",
   "execution_count": null,
   "id": "0505d56c",
   "metadata": {},
   "outputs": [],
   "source": []
  },
  {
   "cell_type": "code",
   "execution_count": null,
   "id": "f20dfbfd",
   "metadata": {},
   "outputs": [],
   "source": []
  },
  {
   "cell_type": "code",
   "execution_count": null,
   "id": "39961165",
   "metadata": {},
   "outputs": [],
   "source": []
  },
  {
   "cell_type": "code",
   "execution_count": null,
   "id": "07602aba",
   "metadata": {},
   "outputs": [],
   "source": []
  },
  {
   "cell_type": "code",
   "execution_count": null,
   "id": "e9c43ab0",
   "metadata": {},
   "outputs": [],
   "source": []
  },
  {
   "cell_type": "code",
   "execution_count": null,
   "id": "426667d0",
   "metadata": {},
   "outputs": [],
   "source": []
  },
  {
   "cell_type": "code",
   "execution_count": null,
   "id": "7d0a3a4c",
   "metadata": {},
   "outputs": [],
   "source": []
  },
  {
   "cell_type": "code",
   "execution_count": null,
   "id": "2ac3a67e",
   "metadata": {},
   "outputs": [],
   "source": []
  },
  {
   "cell_type": "code",
   "execution_count": null,
   "id": "ace65891",
   "metadata": {},
   "outputs": [],
   "source": []
  },
  {
   "cell_type": "code",
   "execution_count": null,
   "id": "631bbf09",
   "metadata": {},
   "outputs": [],
   "source": []
  },
  {
   "cell_type": "code",
   "execution_count": null,
   "id": "757e29a8",
   "metadata": {},
   "outputs": [],
   "source": []
  },
  {
   "cell_type": "code",
   "execution_count": null,
   "id": "4838dcff",
   "metadata": {},
   "outputs": [],
   "source": []
  },
  {
   "cell_type": "code",
   "execution_count": null,
   "id": "8da3e3cc",
   "metadata": {},
   "outputs": [],
   "source": []
  },
  {
   "cell_type": "code",
   "execution_count": null,
   "id": "153b85f9",
   "metadata": {},
   "outputs": [],
   "source": []
  },
  {
   "cell_type": "code",
   "execution_count": null,
   "id": "1ee3f696",
   "metadata": {},
   "outputs": [],
   "source": []
  },
  {
   "cell_type": "code",
   "execution_count": null,
   "id": "8804aa9a",
   "metadata": {},
   "outputs": [],
   "source": []
  },
  {
   "cell_type": "code",
   "execution_count": null,
   "id": "41b760ca",
   "metadata": {},
   "outputs": [],
   "source": []
  },
  {
   "cell_type": "code",
   "execution_count": null,
   "id": "d6ac2697",
   "metadata": {},
   "outputs": [],
   "source": []
  },
  {
   "cell_type": "code",
   "execution_count": null,
   "id": "90d62479",
   "metadata": {},
   "outputs": [],
   "source": []
  }
 ],
 "metadata": {
  "kernelspec": {
   "display_name": "Python 3 (ipykernel)",
   "language": "python",
   "name": "python3"
  },
  "language_info": {
   "codemirror_mode": {
    "name": "ipython",
    "version": 3
   },
   "file_extension": ".py",
   "mimetype": "text/x-python",
   "name": "python",
   "nbconvert_exporter": "python",
   "pygments_lexer": "ipython3",
   "version": "3.10.4"
  }
 },
 "nbformat": 4,
 "nbformat_minor": 5
}

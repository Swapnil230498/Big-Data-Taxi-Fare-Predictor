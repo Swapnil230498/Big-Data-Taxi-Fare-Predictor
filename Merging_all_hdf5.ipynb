{
 "cells": [
  {
   "cell_type": "code",
   "execution_count": 2,
   "id": "821cfb8a",
   "metadata": {},
   "outputs": [],
   "source": [
    "import vaex\n",
    "import os\n",
    "\n",
    "folder_path = 'D:\\WORK DRIVE\\CODING MATERIALS\\Self Projects\\BIG DATA Project'\n",
    "\n",
    "# Get a list of all HDF5 files in the folder\n",
    "hdf5_files = [os.path.join(folder_path, file) for file in os.listdir(folder_path) if file.endswith('.hdf5')]\n",
    "\n",
    "# Open all the HDF5 files as a single Vaex DataFrame\n",
    "merged_vaex_df = vaex.open_many(hdf5_files)"
   ]
  },
  {
   "cell_type": "code",
   "execution_count": 3,
   "id": "b6e7ab64",
   "metadata": {},
   "outputs": [
    {
     "data": {
      "text/plain": [
       "vaex.dataframe.DataFrameLocal"
      ]
     },
     "execution_count": 3,
     "metadata": {},
     "output_type": "execute_result"
    }
   ],
   "source": [
    "type(merged_vaex_df)"
   ]
  },
  {
   "cell_type": "code",
   "execution_count": 4,
   "id": "92b9475e",
   "metadata": {},
   "outputs": [
    {
     "data": {
      "text/plain": [
       "(84399019, 18)"
      ]
     },
     "execution_count": 4,
     "metadata": {},
     "output_type": "execute_result"
    }
   ],
   "source": [
    "merged_vaex_df.shape"
   ]
  },
  {
   "cell_type": "code",
   "execution_count": 5,
   "id": "9d1cc74d",
   "metadata": {},
   "outputs": [
    {
     "data": {
      "text/html": [
       "<table>\n",
       "<thead>\n",
       "<tr><th>#                            </th><th style=\"text-align: right;\">  vendorid</th><th>tpep_pickup_datetime      </th><th>tpep_dropoff_datetime     </th><th style=\"text-align: right;\">  passenger_count</th><th style=\"text-align: right;\">  trip_distance</th><th style=\"text-align: right;\">  ratecodeid</th><th>store_and_fwd_flag  </th><th style=\"text-align: right;\">  pulocationid</th><th style=\"text-align: right;\">  dolocationid</th><th style=\"text-align: right;\">  payment_type</th><th style=\"text-align: right;\">  fare_amount</th><th style=\"text-align: right;\">  extra</th><th style=\"text-align: right;\">  mta_tax</th><th style=\"text-align: right;\">  tip_amount</th><th style=\"text-align: right;\">  tolls_amount</th><th style=\"text-align: right;\">  improvement_surcharge</th><th style=\"text-align: right;\">  total_amount</th><th style=\"text-align: right;\">  congestion_surcharge</th></tr>\n",
       "</thead>\n",
       "<tbody>\n",
       "<tr><td><i style='opacity: 0.6'>0</i></td><td style=\"text-align: right;\">         1</td><td>2019-05-01 00:14:50.000000</td><td>2019-05-01 00:16:48.000000</td><td style=\"text-align: right;\">                1</td><td style=\"text-align: right;\">            0  </td><td style=\"text-align: right;\">           1</td><td>N                   </td><td style=\"text-align: right;\">           145</td><td style=\"text-align: right;\">           145</td><td style=\"text-align: right;\">             2</td><td style=\"text-align: right;\">          3  </td><td style=\"text-align: right;\">    0.5</td><td style=\"text-align: right;\">      0.5</td><td style=\"text-align: right;\">        0   </td><td style=\"text-align: right;\">             0</td><td style=\"text-align: right;\">                    0.3</td><td style=\"text-align: right;\">          4.3 </td><td style=\"text-align: right;\">                   0  </td></tr>\n",
       "<tr><td><i style='opacity: 0.6'>1</i></td><td style=\"text-align: right;\">         1</td><td>2019-05-01 00:35:54.000000</td><td>2019-05-01 00:37:27.000000</td><td style=\"text-align: right;\">                1</td><td style=\"text-align: right;\">            1.5</td><td style=\"text-align: right;\">           1</td><td>N                   </td><td style=\"text-align: right;\">           145</td><td style=\"text-align: right;\">           145</td><td style=\"text-align: right;\">             2</td><td style=\"text-align: right;\">          3  </td><td style=\"text-align: right;\">    0.5</td><td style=\"text-align: right;\">      0.5</td><td style=\"text-align: right;\">        0   </td><td style=\"text-align: right;\">             0</td><td style=\"text-align: right;\">                    0.3</td><td style=\"text-align: right;\">          4.3 </td><td style=\"text-align: right;\">                   0  </td></tr>\n",
       "<tr><td><i style='opacity: 0.6'>2</i></td><td style=\"text-align: right;\">         1</td><td>2019-05-01 00:37:45.000000</td><td>2019-05-01 00:37:49.000000</td><td style=\"text-align: right;\">                1</td><td style=\"text-align: right;\">            1.5</td><td style=\"text-align: right;\">           1</td><td>N                   </td><td style=\"text-align: right;\">           145</td><td style=\"text-align: right;\">           145</td><td style=\"text-align: right;\">             2</td><td style=\"text-align: right;\">          2.5</td><td style=\"text-align: right;\">    0.5</td><td style=\"text-align: right;\">      0.5</td><td style=\"text-align: right;\">        0   </td><td style=\"text-align: right;\">             0</td><td style=\"text-align: right;\">                    0.3</td><td style=\"text-align: right;\">          3.8 </td><td style=\"text-align: right;\">                   0  </td></tr>\n",
       "<tr><td><i style='opacity: 0.6'>3</i></td><td style=\"text-align: right;\">         1</td><td>2019-05-01 00:44:57.000000</td><td>2019-05-01 00:50:11.000000</td><td style=\"text-align: right;\">                1</td><td style=\"text-align: right;\">            0.7</td><td style=\"text-align: right;\">           1</td><td>N                   </td><td style=\"text-align: right;\">           161</td><td style=\"text-align: right;\">           161</td><td style=\"text-align: right;\">             2</td><td style=\"text-align: right;\">          5  </td><td style=\"text-align: right;\">    3  </td><td style=\"text-align: right;\">      0.5</td><td style=\"text-align: right;\">        0   </td><td style=\"text-align: right;\">             0</td><td style=\"text-align: right;\">                    0.3</td><td style=\"text-align: right;\">          8.8 </td><td style=\"text-align: right;\">                   2.5</td></tr>\n",
       "<tr><td><i style='opacity: 0.6'>4</i></td><td style=\"text-align: right;\">         1</td><td>2019-05-01 00:59:48.000000</td><td>2019-05-01 01:10:22.000000</td><td style=\"text-align: right;\">                1</td><td style=\"text-align: right;\">            2  </td><td style=\"text-align: right;\">           1</td><td>N                   </td><td style=\"text-align: right;\">           163</td><td style=\"text-align: right;\">           141</td><td style=\"text-align: right;\">             1</td><td style=\"text-align: right;\">          9.5</td><td style=\"text-align: right;\">    3  </td><td style=\"text-align: right;\">      0.5</td><td style=\"text-align: right;\">        2   </td><td style=\"text-align: right;\">             0</td><td style=\"text-align: right;\">                    0.3</td><td style=\"text-align: right;\">         15.3 </td><td style=\"text-align: right;\">                   2.5</td></tr>\n",
       "<tr><td><i style='opacity: 0.6'>5</i></td><td style=\"text-align: right;\">         2</td><td>2019-05-01 00:48:04.000000</td><td>2019-05-01 00:49:00.000000</td><td style=\"text-align: right;\">                1</td><td style=\"text-align: right;\">            0  </td><td style=\"text-align: right;\">           1</td><td>N                   </td><td style=\"text-align: right;\">           193</td><td style=\"text-align: right;\">           193</td><td style=\"text-align: right;\">             2</td><td style=\"text-align: right;\">          2.5</td><td style=\"text-align: right;\">    0.5</td><td style=\"text-align: right;\">      0.5</td><td style=\"text-align: right;\">        0   </td><td style=\"text-align: right;\">             0</td><td style=\"text-align: right;\">                    0.3</td><td style=\"text-align: right;\">          3.8 </td><td style=\"text-align: right;\">                   0  </td></tr>\n",
       "<tr><td><i style='opacity: 0.6'>6</i></td><td style=\"text-align: right;\">         2</td><td>2019-05-01 00:05:26.000000</td><td>2019-05-01 00:05:34.000000</td><td style=\"text-align: right;\">                1</td><td style=\"text-align: right;\">            0  </td><td style=\"text-align: right;\">           1</td><td>N                   </td><td style=\"text-align: right;\">           193</td><td style=\"text-align: right;\">           193</td><td style=\"text-align: right;\">             2</td><td style=\"text-align: right;\">          2.5</td><td style=\"text-align: right;\">    0.5</td><td style=\"text-align: right;\">      0.5</td><td style=\"text-align: right;\">        0   </td><td style=\"text-align: right;\">             0</td><td style=\"text-align: right;\">                    0.3</td><td style=\"text-align: right;\">          3.8 </td><td style=\"text-align: right;\">                   0  </td></tr>\n",
       "<tr><td><i style='opacity: 0.6'>7</i></td><td style=\"text-align: right;\">         1</td><td>2019-05-01 00:23:20.000000</td><td>2019-05-01 00:32:57.000000</td><td style=\"text-align: right;\">                1</td><td style=\"text-align: right;\">            2.5</td><td style=\"text-align: right;\">           1</td><td>N                   </td><td style=\"text-align: right;\">           260</td><td style=\"text-align: right;\">            56</td><td style=\"text-align: right;\">             2</td><td style=\"text-align: right;\">         10  </td><td style=\"text-align: right;\">    0.5</td><td style=\"text-align: right;\">      0.5</td><td style=\"text-align: right;\">        0   </td><td style=\"text-align: right;\">             0</td><td style=\"text-align: right;\">                    0.3</td><td style=\"text-align: right;\">         11.3 </td><td style=\"text-align: right;\">                   0  </td></tr>\n",
       "<tr><td><i style='opacity: 0.6'>8</i></td><td style=\"text-align: right;\">         1</td><td>2019-05-01 00:35:54.000000</td><td>2019-05-01 00:47:49.000000</td><td style=\"text-align: right;\">                1</td><td style=\"text-align: right;\">            2.8</td><td style=\"text-align: right;\">           1</td><td>N                   </td><td style=\"text-align: right;\">            56</td><td style=\"text-align: right;\">           226</td><td style=\"text-align: right;\">             2</td><td style=\"text-align: right;\">         11.5</td><td style=\"text-align: right;\">    0.5</td><td style=\"text-align: right;\">      0.5</td><td style=\"text-align: right;\">        0   </td><td style=\"text-align: right;\">             0</td><td style=\"text-align: right;\">                    0.3</td><td style=\"text-align: right;\">         12.8 </td><td style=\"text-align: right;\">                   0  </td></tr>\n",
       "<tr><td><i style='opacity: 0.6'>9</i></td><td style=\"text-align: right;\">         1</td><td>2019-05-01 00:20:12.000000</td><td>2019-05-01 00:26:52.000000</td><td style=\"text-align: right;\">                1</td><td style=\"text-align: right;\">            2  </td><td style=\"text-align: right;\">           1</td><td>N                   </td><td style=\"text-align: right;\">            79</td><td style=\"text-align: right;\">           164</td><td style=\"text-align: right;\">             1</td><td style=\"text-align: right;\">          8  </td><td style=\"text-align: right;\">    3  </td><td style=\"text-align: right;\">      0.5</td><td style=\"text-align: right;\">        2.35</td><td style=\"text-align: right;\">             0</td><td style=\"text-align: right;\">                    0.3</td><td style=\"text-align: right;\">         14.15</td><td style=\"text-align: right;\">                   2.5</td></tr>\n",
       "</tbody>\n",
       "</table>"
      ],
      "text/plain": [
       "  #    vendorid  tpep_pickup_datetime        tpep_dropoff_datetime         passenger_count    trip_distance    ratecodeid  store_and_fwd_flag      pulocationid    dolocationid    payment_type    fare_amount    extra    mta_tax    tip_amount    tolls_amount    improvement_surcharge    total_amount    congestion_surcharge\n",
       "  0           1  2019-05-01 00:14:50.000000  2019-05-01 00:16:48.000000                  1              0               1  N                                145             145               2            3        0.5        0.5          0                  0                      0.3            4.3                      0\n",
       "  1           1  2019-05-01 00:35:54.000000  2019-05-01 00:37:27.000000                  1              1.5             1  N                                145             145               2            3        0.5        0.5          0                  0                      0.3            4.3                      0\n",
       "  2           1  2019-05-01 00:37:45.000000  2019-05-01 00:37:49.000000                  1              1.5             1  N                                145             145               2            2.5      0.5        0.5          0                  0                      0.3            3.8                      0\n",
       "  3           1  2019-05-01 00:44:57.000000  2019-05-01 00:50:11.000000                  1              0.7             1  N                                161             161               2            5        3          0.5          0                  0                      0.3            8.8                      2.5\n",
       "  4           1  2019-05-01 00:59:48.000000  2019-05-01 01:10:22.000000                  1              2               1  N                                163             141               1            9.5      3          0.5          2                  0                      0.3           15.3                      2.5\n",
       "  5           2  2019-05-01 00:48:04.000000  2019-05-01 00:49:00.000000                  1              0               1  N                                193             193               2            2.5      0.5        0.5          0                  0                      0.3            3.8                      0\n",
       "  6           2  2019-05-01 00:05:26.000000  2019-05-01 00:05:34.000000                  1              0               1  N                                193             193               2            2.5      0.5        0.5          0                  0                      0.3            3.8                      0\n",
       "  7           1  2019-05-01 00:23:20.000000  2019-05-01 00:32:57.000000                  1              2.5             1  N                                260              56               2           10        0.5        0.5          0                  0                      0.3           11.3                      0\n",
       "  8           1  2019-05-01 00:35:54.000000  2019-05-01 00:47:49.000000                  1              2.8             1  N                                 56             226               2           11.5      0.5        0.5          0                  0                      0.3           12.8                      0\n",
       "  9           1  2019-05-01 00:20:12.000000  2019-05-01 00:26:52.000000                  1              2               1  N                                 79             164               1            8        3          0.5          2.35               0                      0.3           14.15                     2.5"
      ]
     },
     "execution_count": 5,
     "metadata": {},
     "output_type": "execute_result"
    }
   ],
   "source": [
    "merged_vaex_df.head()"
   ]
  },
  {
   "cell_type": "code",
   "execution_count": 6,
   "id": "5a5afa87",
   "metadata": {},
   "outputs": [],
   "source": [
    "merged_vaex_df.export_hdf5('all_merged_hdf5.hdf5')"
   ]
  }
 ],
 "metadata": {
  "kernelspec": {
   "display_name": "Python 3 (ipykernel)",
   "language": "python",
   "name": "python3"
  },
  "language_info": {
   "codemirror_mode": {
    "name": "ipython",
    "version": 3
   },
   "file_extension": ".py",
   "mimetype": "text/x-python",
   "name": "python",
   "nbconvert_exporter": "python",
   "pygments_lexer": "ipython3",
   "version": "3.10.4"
  }
 },
 "nbformat": 4,
 "nbformat_minor": 5
}

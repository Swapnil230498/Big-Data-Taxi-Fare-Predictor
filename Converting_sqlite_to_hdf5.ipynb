{
 "cells": [
  {
   "cell_type": "code",
   "execution_count": 1,
   "id": "b493adac",
   "metadata": {},
   "outputs": [],
   "source": [
    "import pandas as pd\n",
    "import sqlite3\n",
    "import dask.dataframe as dd\n",
    "import vaex"
   ]
  },
  {
   "cell_type": "code",
   "execution_count": 2,
   "id": "d9f446f1",
   "metadata": {},
   "outputs": [],
   "source": [
    "file_name = '2019-12.sqlite'\n",
    "conn = sqlite3.connect(file_name)"
   ]
  },
  {
   "cell_type": "code",
   "execution_count": 3,
   "id": "a502fd25",
   "metadata": {},
   "outputs": [
    {
     "data": {
      "text/plain": [
       "<sqlite3.Connection at 0x2c544d72040>"
      ]
     },
     "execution_count": 3,
     "metadata": {},
     "output_type": "execute_result"
    }
   ],
   "source": [
    "conn"
   ]
  },
  {
   "cell_type": "code",
   "execution_count": 4,
   "id": "9dd64dca",
   "metadata": {},
   "outputs": [],
   "source": [
    "# Connect to the SQLite database and read data into a pandas DataFrame\n",
    "conn = sqlite3.connect(file_name)\n",
    "query = \"SELECT * FROM tripdata;\"  # Replace 'tripdata' with the actual table name\n",
    "df_pandas = pd.read_sql_query(query, conn)\n",
    "\n",
    "# Close the database connection\n",
    "conn.close()\n",
    "\n",
    "# Convert the pandas DataFrame to a Dask DataFrame\n",
    "df_dask_12 = dd.from_pandas(df_pandas, npartitions=4) "
   ]
  },
  {
   "cell_type": "code",
   "execution_count": 5,
   "id": "819a6304",
   "metadata": {},
   "outputs": [],
   "source": [
    "vaex_df = df_dask_12.compute() #converted dask dataframe again to pd dataframe and hence no need to convert pandas to dd dataframe earlier."
   ]
  },
  {
   "cell_type": "code",
   "execution_count": 6,
   "id": "f4f91364",
   "metadata": {},
   "outputs": [],
   "source": [
    "vaex_df = vaex.from_pandas(vaex_df)"
   ]
  },
  {
   "cell_type": "code",
   "execution_count": 7,
   "id": "35098a09",
   "metadata": {},
   "outputs": [],
   "source": [
    "vaex_df.export_hdf5('large_data12.hdf5')"
   ]
  },
  {
   "cell_type": "code",
   "execution_count": null,
   "id": "c0193a34",
   "metadata": {},
   "outputs": [],
   "source": []
  }
 ],
 "metadata": {
  "kernelspec": {
   "display_name": "Python 3 (ipykernel)",
   "language": "python",
   "name": "python3"
  },
  "language_info": {
   "codemirror_mode": {
    "name": "ipython",
    "version": 3
   },
   "file_extension": ".py",
   "mimetype": "text/x-python",
   "name": "python",
   "nbconvert_exporter": "python",
   "pygments_lexer": "ipython3",
   "version": "3.10.4"
  }
 },
 "nbformat": 4,
 "nbformat_minor": 5
}
